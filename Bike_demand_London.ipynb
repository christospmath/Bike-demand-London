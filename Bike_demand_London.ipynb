{
 "cells": [
  {
   "cell_type": "markdown",
   "metadata": {},
   "source": [
    "1. Load the data\n",
    "\n",
    "We create the specific text format found on https://cycling.data.tfl.gov.uk/ on the required dates, and load everything into a dataframe."
   ]
  },
  {
   "cell_type": "code",
   "execution_count": 1,
   "metadata": {
    "execution": {
     "iopub.execute_input": "2022-07-12T14:22:05.634280Z",
     "iopub.status.busy": "2022-07-12T14:22:05.633975Z",
     "iopub.status.idle": "2022-07-12T14:22:08.032035Z",
     "shell.execute_reply": "2022-07-12T14:22:08.031280Z",
     "shell.execute_reply.started": "2022-07-12T14:22:05.634201Z"
    },
    "id": "5RcZ_5SF6yA5"
   },
   "outputs": [],
   "source": [
    "import pandas as pd\n",
    "from datetime import date, timedelta\n",
    "import pandas as pd\n",
    "import numpy as np\n",
    "import matplotlib.pyplot as plt\n",
    "import seaborn as sns\n",
    "\n",
    "# make format number_JourneyDataExtract for dates 2019-2021\n",
    "numbers = []\n",
    "for i in range(143,298):\n",
    "  numbers.append(str(i) + 'JourneyDataExtract')\n",
    "  if i ==246:                                         # fix duplicate number 246               \n",
    "    numbers.append(str(i) + 'JourneyDataExtract')"
   ]
  },
  {
   "cell_type": "code",
   "execution_count": 2,
   "metadata": {
    "colab": {
     "base_uri": "https://localhost:8080/"
    },
    "execution": {
     "iopub.execute_input": "2022-07-12T14:22:08.033538Z",
     "iopub.status.busy": "2022-07-12T14:22:08.033361Z",
     "iopub.status.idle": "2022-07-12T14:22:08.043175Z",
     "shell.execute_reply": "2022-07-12T14:22:08.042738Z",
     "shell.execute_reply.started": "2022-07-12T14:22:08.033518Z"
    },
    "id": "E3YlXMv68yhq",
    "outputId": "2ce22ab8-31cc-4149-e4cd-06d22b6bbc8f"
   },
   "outputs": [
    {
     "data": {
      "text/plain": [
       "(156, 156)"
      ]
     },
     "execution_count": 2,
     "metadata": {},
     "output_type": "execute_result"
    }
   ],
   "source": [
    "from datetime import date, timedelta\n",
    "\n",
    "start_date = date(2019, 1, 2)\n",
    "end_date = date(2021, 12, 28)\n",
    "delta = timedelta(days=6)\n",
    "s = 0\n",
    "dates = []\n",
    "while start_date <= end_date:\n",
    "    dates.append(start_date.strftime(\"%d%b%Y\"))\n",
    "    if s%2!=0:\n",
    "      delta = timedelta(days=1)\n",
    "    else:\n",
    "      delta = timedelta(days=6)\n",
    "    start_date += delta \n",
    "    s+=1\n",
    "\n",
    "date_tuple = [dates[i]+'-'+ dates[i+1] for i in range(len(dates)) if i%2==0]\n",
    "len(date_tuple), len(numbers)"
   ]
  },
  {
   "cell_type": "code",
   "execution_count": 3,
   "metadata": {
    "colab": {
     "base_uri": "https://localhost:8080/",
     "height": 455
    },
    "execution": {
     "iopub.execute_input": "2022-07-12T14:22:08.044105Z",
     "iopub.status.busy": "2022-07-12T14:22:08.043957Z",
     "iopub.status.idle": "2022-07-12T14:23:47.794965Z",
     "shell.execute_reply": "2022-07-12T14:23:47.794227Z",
     "shell.execute_reply.started": "2022-07-12T14:22:08.044087Z"
    },
    "id": "YHhsO3anD4Bs",
    "outputId": "9e353f19-76a1-4861-c27e-c50b2582e10c"
   },
   "outputs": [],
   "source": [
    "result = [ pd.read_csv('https://cycling.data.tfl.gov.uk/usage-stats/' + numbers[j] + date_tuple[j] + '.csv', index_col=0) for j in range(len(date_tuple)-1)]\n",
    "df = pd.concat(result)"
   ]
  },
  {
   "cell_type": "code",
   "execution_count": 4,
   "metadata": {
    "execution": {
     "iopub.execute_input": "2022-07-12T14:23:47.797131Z",
     "iopub.status.busy": "2022-07-12T14:23:47.796933Z",
     "iopub.status.idle": "2022-07-12T14:23:47.809250Z",
     "shell.execute_reply": "2022-07-12T14:23:47.808562Z",
     "shell.execute_reply.started": "2022-07-12T14:23:47.797110Z"
    }
   },
   "outputs": [
    {
     "data": {
      "text/html": [
       "<div>\n",
       "<style scoped>\n",
       "    .dataframe tbody tr th:only-of-type {\n",
       "        vertical-align: middle;\n",
       "    }\n",
       "\n",
       "    .dataframe tbody tr th {\n",
       "        vertical-align: top;\n",
       "    }\n",
       "\n",
       "    .dataframe thead th {\n",
       "        text-align: right;\n",
       "    }\n",
       "</style>\n",
       "<table border=\"1\" class=\"dataframe\">\n",
       "  <thead>\n",
       "    <tr style=\"text-align: right;\">\n",
       "      <th></th>\n",
       "      <th>Duration</th>\n",
       "      <th>Bike Id</th>\n",
       "      <th>End Date</th>\n",
       "      <th>EndStation Id</th>\n",
       "      <th>EndStation Name</th>\n",
       "      <th>Start Date</th>\n",
       "      <th>StartStation Id</th>\n",
       "      <th>StartStation Name</th>\n",
       "    </tr>\n",
       "    <tr>\n",
       "      <th>Rental Id</th>\n",
       "      <th></th>\n",
       "      <th></th>\n",
       "      <th></th>\n",
       "      <th></th>\n",
       "      <th></th>\n",
       "      <th></th>\n",
       "      <th></th>\n",
       "      <th></th>\n",
       "    </tr>\n",
       "  </thead>\n",
       "  <tbody>\n",
       "    <tr>\n",
       "      <th>83284852</th>\n",
       "      <td>660</td>\n",
       "      <td>8282</td>\n",
       "      <td>02/01/2019 17:47</td>\n",
       "      <td>94</td>\n",
       "      <td>Bricklayers Arms, Borough</td>\n",
       "      <td>02/01/2019 17:36</td>\n",
       "      <td>197</td>\n",
       "      <td>Stamford Street, South Bank</td>\n",
       "    </tr>\n",
       "    <tr>\n",
       "      <th>83360769</th>\n",
       "      <td>180</td>\n",
       "      <td>4657</td>\n",
       "      <td>06/01/2019 18:14</td>\n",
       "      <td>94</td>\n",
       "      <td>Bricklayers Arms, Borough</td>\n",
       "      <td>06/01/2019 18:11</td>\n",
       "      <td>269</td>\n",
       "      <td>Empire Square, The Borough</td>\n",
       "    </tr>\n",
       "    <tr>\n",
       "      <th>83280311</th>\n",
       "      <td>960</td>\n",
       "      <td>6306</td>\n",
       "      <td>02/01/2019 14:49</td>\n",
       "      <td>374</td>\n",
       "      <td>Waterloo Station 1, Waterloo</td>\n",
       "      <td>02/01/2019 14:33</td>\n",
       "      <td>5</td>\n",
       "      <td>Sedding Street, Sloane Square</td>\n",
       "    </tr>\n",
       "    <tr>\n",
       "      <th>83323626</th>\n",
       "      <td>120</td>\n",
       "      <td>6217</td>\n",
       "      <td>04/01/2019 12:54</td>\n",
       "      <td>269</td>\n",
       "      <td>Empire Square, The Borough</td>\n",
       "      <td>04/01/2019 12:52</td>\n",
       "      <td>94</td>\n",
       "      <td>Bricklayers Arms, Borough</td>\n",
       "    </tr>\n",
       "    <tr>\n",
       "      <th>83343322</th>\n",
       "      <td>120</td>\n",
       "      <td>848</td>\n",
       "      <td>05/01/2019 16:03</td>\n",
       "      <td>269</td>\n",
       "      <td>Empire Square, The Borough</td>\n",
       "      <td>05/01/2019 16:01</td>\n",
       "      <td>94</td>\n",
       "      <td>Bricklayers Arms, Borough</td>\n",
       "    </tr>\n",
       "  </tbody>\n",
       "</table>\n",
       "</div>"
      ],
      "text/plain": [
       "           Duration  Bike Id          End Date  EndStation Id  \\\n",
       "Rental Id                                                       \n",
       "83284852        660     8282  02/01/2019 17:47             94   \n",
       "83360769        180     4657  06/01/2019 18:14             94   \n",
       "83280311        960     6306  02/01/2019 14:49            374   \n",
       "83323626        120     6217  04/01/2019 12:54            269   \n",
       "83343322        120      848  05/01/2019 16:03            269   \n",
       "\n",
       "                        EndStation Name        Start Date  StartStation Id  \\\n",
       "Rental Id                                                                    \n",
       "83284852      Bricklayers Arms, Borough  02/01/2019 17:36              197   \n",
       "83360769      Bricklayers Arms, Borough  06/01/2019 18:11              269   \n",
       "83280311   Waterloo Station 1, Waterloo  02/01/2019 14:33                5   \n",
       "83323626     Empire Square, The Borough  04/01/2019 12:52               94   \n",
       "83343322     Empire Square, The Borough  05/01/2019 16:01               94   \n",
       "\n",
       "                       StartStation Name  \n",
       "Rental Id                                 \n",
       "83284852     Stamford Street, South Bank  \n",
       "83360769      Empire Square, The Borough  \n",
       "83280311   Sedding Street, Sloane Square  \n",
       "83323626       Bricklayers Arms, Borough  \n",
       "83343322       Bricklayers Arms, Borough  "
      ]
     },
     "execution_count": 4,
     "metadata": {},
     "output_type": "execute_result"
    }
   ],
   "source": [
    "df.head()"
   ]
  },
  {
   "cell_type": "markdown",
   "metadata": {},
   "source": [
    "2. Dataset pre-processing\n",
    "\n",
    "We process the data such that we have all the features we are going to use ('Season', 'Month', 'Year', 'Duration') along with the variable for prediction 'Count'."
   ]
  },
  {
   "cell_type": "code",
   "execution_count": 5,
   "metadata": {
    "execution": {
     "iopub.execute_input": "2022-07-12T14:23:47.810186Z",
     "iopub.status.busy": "2022-07-12T14:23:47.810028Z",
     "iopub.status.idle": "2022-07-12T14:25:38.865741Z",
     "shell.execute_reply": "2022-07-12T14:25:38.865070Z",
     "shell.execute_reply.started": "2022-07-12T14:23:47.810168Z"
    }
   },
   "outputs": [
    {
     "data": {
      "text/plain": [
       "Month\n",
       "1    2131058\n",
       "2    2181397\n",
       "3    2282748\n",
       "4    2489980\n",
       "5    3070152\n",
       "Name: 1s, dtype: int64"
      ]
     },
     "execution_count": 5,
     "metadata": {},
     "output_type": "execute_result"
    }
   ],
   "source": [
    "# count per month\n",
    "df.index = [x for x in range(len(df))]\n",
    "df['1s'] = [1]*len(df)\n",
    "count = df.groupby('Start Date')['1s'].sum()\n",
    "df_count = pd.DataFrame(count)\n",
    "df_count['Month'] = pd.DatetimeIndex(df_count.index).month\n",
    "df_count_month = df_count.groupby('Month')['1s'].sum() \n",
    "df_count['Season'] = df_count['Month'].apply(lambda x: x%12 // 3 + 1)\n",
    "df_count_month.head()"
   ]
  },
  {
   "cell_type": "code",
   "execution_count": 6,
   "metadata": {
    "execution": {
     "iopub.execute_input": "2022-07-12T14:25:38.866933Z",
     "iopub.status.busy": "2022-07-12T14:25:38.866764Z",
     "iopub.status.idle": "2022-07-12T14:25:38.875232Z",
     "shell.execute_reply": "2022-07-12T14:25:38.874714Z",
     "shell.execute_reply.started": "2022-07-12T14:25:38.866913Z"
    }
   },
   "outputs": [
    {
     "data": {
      "text/html": [
       "<div>\n",
       "<style scoped>\n",
       "    .dataframe tbody tr th:only-of-type {\n",
       "        vertical-align: middle;\n",
       "    }\n",
       "\n",
       "    .dataframe tbody tr th {\n",
       "        vertical-align: top;\n",
       "    }\n",
       "\n",
       "    .dataframe thead th {\n",
       "        text-align: right;\n",
       "    }\n",
       "</style>\n",
       "<table border=\"1\" class=\"dataframe\">\n",
       "  <thead>\n",
       "    <tr style=\"text-align: right;\">\n",
       "      <th></th>\n",
       "      <th>Duration</th>\n",
       "      <th>Bike Id</th>\n",
       "      <th>End Date</th>\n",
       "      <th>EndStation Id</th>\n",
       "      <th>EndStation Name</th>\n",
       "      <th>Start Date</th>\n",
       "      <th>StartStation Id</th>\n",
       "      <th>StartStation Name</th>\n",
       "      <th>1s</th>\n",
       "    </tr>\n",
       "  </thead>\n",
       "  <tbody>\n",
       "    <tr>\n",
       "      <th>0</th>\n",
       "      <td>660</td>\n",
       "      <td>8282</td>\n",
       "      <td>02/01/2019 17:47</td>\n",
       "      <td>94</td>\n",
       "      <td>Bricklayers Arms, Borough</td>\n",
       "      <td>02/01/2019 17:36</td>\n",
       "      <td>197</td>\n",
       "      <td>Stamford Street, South Bank</td>\n",
       "      <td>1</td>\n",
       "    </tr>\n",
       "    <tr>\n",
       "      <th>1</th>\n",
       "      <td>180</td>\n",
       "      <td>4657</td>\n",
       "      <td>06/01/2019 18:14</td>\n",
       "      <td>94</td>\n",
       "      <td>Bricklayers Arms, Borough</td>\n",
       "      <td>06/01/2019 18:11</td>\n",
       "      <td>269</td>\n",
       "      <td>Empire Square, The Borough</td>\n",
       "      <td>1</td>\n",
       "    </tr>\n",
       "    <tr>\n",
       "      <th>2</th>\n",
       "      <td>960</td>\n",
       "      <td>6306</td>\n",
       "      <td>02/01/2019 14:49</td>\n",
       "      <td>374</td>\n",
       "      <td>Waterloo Station 1, Waterloo</td>\n",
       "      <td>02/01/2019 14:33</td>\n",
       "      <td>5</td>\n",
       "      <td>Sedding Street, Sloane Square</td>\n",
       "      <td>1</td>\n",
       "    </tr>\n",
       "    <tr>\n",
       "      <th>3</th>\n",
       "      <td>120</td>\n",
       "      <td>6217</td>\n",
       "      <td>04/01/2019 12:54</td>\n",
       "      <td>269</td>\n",
       "      <td>Empire Square, The Borough</td>\n",
       "      <td>04/01/2019 12:52</td>\n",
       "      <td>94</td>\n",
       "      <td>Bricklayers Arms, Borough</td>\n",
       "      <td>1</td>\n",
       "    </tr>\n",
       "    <tr>\n",
       "      <th>4</th>\n",
       "      <td>120</td>\n",
       "      <td>848</td>\n",
       "      <td>05/01/2019 16:03</td>\n",
       "      <td>269</td>\n",
       "      <td>Empire Square, The Borough</td>\n",
       "      <td>05/01/2019 16:01</td>\n",
       "      <td>94</td>\n",
       "      <td>Bricklayers Arms, Borough</td>\n",
       "      <td>1</td>\n",
       "    </tr>\n",
       "  </tbody>\n",
       "</table>\n",
       "</div>"
      ],
      "text/plain": [
       "   Duration  Bike Id          End Date  EndStation Id  \\\n",
       "0       660     8282  02/01/2019 17:47             94   \n",
       "1       180     4657  06/01/2019 18:14             94   \n",
       "2       960     6306  02/01/2019 14:49            374   \n",
       "3       120     6217  04/01/2019 12:54            269   \n",
       "4       120      848  05/01/2019 16:03            269   \n",
       "\n",
       "                EndStation Name        Start Date  StartStation Id  \\\n",
       "0     Bricklayers Arms, Borough  02/01/2019 17:36              197   \n",
       "1     Bricklayers Arms, Borough  06/01/2019 18:11              269   \n",
       "2  Waterloo Station 1, Waterloo  02/01/2019 14:33                5   \n",
       "3    Empire Square, The Borough  04/01/2019 12:52               94   \n",
       "4    Empire Square, The Borough  05/01/2019 16:01               94   \n",
       "\n",
       "               StartStation Name  1s  \n",
       "0    Stamford Street, South Bank   1  \n",
       "1     Empire Square, The Borough   1  \n",
       "2  Sedding Street, Sloane Square   1  \n",
       "3      Bricklayers Arms, Borough   1  \n",
       "4      Bricklayers Arms, Borough   1  "
      ]
     },
     "execution_count": 6,
     "metadata": {},
     "output_type": "execute_result"
    }
   ],
   "source": [
    "df.head()"
   ]
  },
  {
   "cell_type": "code",
   "execution_count": 7,
   "metadata": {
    "execution": {
     "iopub.execute_input": "2022-07-12T14:25:38.876162Z",
     "iopub.status.busy": "2022-07-12T14:25:38.876017Z",
     "iopub.status.idle": "2022-07-12T14:25:57.236732Z",
     "shell.execute_reply": "2022-07-12T14:25:57.236050Z",
     "shell.execute_reply.started": "2022-07-12T14:25:38.876145Z"
    }
   },
   "outputs": [],
   "source": [
    "# main bulk of pre-processing\n",
    "StartStation_Name = df['StartStation Name']\n",
    "EndStation_Name = df['EndStation Name']\n",
    "df = df.drop('StartStation Name', axis=1)\n",
    "df = df.drop('EndStation Name', axis=1)\n",
    "df = df.drop('Bike Id', axis=1)\n",
    "df = df.drop('End Date', axis=1)\n",
    "df['Start Hour'] = df['Start Date'].apply(lambda x: x.split()[1])"
   ]
  },
  {
   "cell_type": "code",
   "execution_count": 8,
   "metadata": {
    "execution": {
     "iopub.execute_input": "2022-07-12T14:25:57.238533Z",
     "iopub.status.busy": "2022-07-12T14:25:57.238360Z",
     "iopub.status.idle": "2022-07-12T14:27:08.243590Z",
     "shell.execute_reply": "2022-07-12T14:27:08.243083Z",
     "shell.execute_reply.started": "2022-07-12T14:25:57.238511Z"
    }
   },
   "outputs": [
    {
     "data": {
      "text/html": [
       "<div>\n",
       "<style scoped>\n",
       "    .dataframe tbody tr th:only-of-type {\n",
       "        vertical-align: middle;\n",
       "    }\n",
       "\n",
       "    .dataframe tbody tr th {\n",
       "        vertical-align: top;\n",
       "    }\n",
       "\n",
       "    .dataframe thead th {\n",
       "        text-align: right;\n",
       "    }\n",
       "</style>\n",
       "<table border=\"1\" class=\"dataframe\">\n",
       "  <thead>\n",
       "    <tr style=\"text-align: right;\">\n",
       "      <th></th>\n",
       "      <th>Duration</th>\n",
       "      <th>EndStation Id</th>\n",
       "      <th>Start Date</th>\n",
       "      <th>StartStation Id</th>\n",
       "      <th>1s</th>\n",
       "      <th>Start Hour</th>\n",
       "      <th>Month</th>\n",
       "      <th>Year</th>\n",
       "      <th>Season</th>\n",
       "    </tr>\n",
       "  </thead>\n",
       "  <tbody>\n",
       "    <tr>\n",
       "      <th>0</th>\n",
       "      <td>11.0</td>\n",
       "      <td>94</td>\n",
       "      <td>02/01/2019</td>\n",
       "      <td>197</td>\n",
       "      <td>1</td>\n",
       "      <td>1736</td>\n",
       "      <td>1</td>\n",
       "      <td>2019</td>\n",
       "      <td>1</td>\n",
       "    </tr>\n",
       "    <tr>\n",
       "      <th>1</th>\n",
       "      <td>3.0</td>\n",
       "      <td>94</td>\n",
       "      <td>06/01/2019</td>\n",
       "      <td>269</td>\n",
       "      <td>1</td>\n",
       "      <td>1811</td>\n",
       "      <td>1</td>\n",
       "      <td>2019</td>\n",
       "      <td>1</td>\n",
       "    </tr>\n",
       "    <tr>\n",
       "      <th>2</th>\n",
       "      <td>16.0</td>\n",
       "      <td>374</td>\n",
       "      <td>02/01/2019</td>\n",
       "      <td>5</td>\n",
       "      <td>1</td>\n",
       "      <td>1433</td>\n",
       "      <td>1</td>\n",
       "      <td>2019</td>\n",
       "      <td>1</td>\n",
       "    </tr>\n",
       "    <tr>\n",
       "      <th>3</th>\n",
       "      <td>2.0</td>\n",
       "      <td>269</td>\n",
       "      <td>04/01/2019</td>\n",
       "      <td>94</td>\n",
       "      <td>1</td>\n",
       "      <td>1252</td>\n",
       "      <td>1</td>\n",
       "      <td>2019</td>\n",
       "      <td>1</td>\n",
       "    </tr>\n",
       "    <tr>\n",
       "      <th>4</th>\n",
       "      <td>2.0</td>\n",
       "      <td>269</td>\n",
       "      <td>05/01/2019</td>\n",
       "      <td>94</td>\n",
       "      <td>1</td>\n",
       "      <td>1601</td>\n",
       "      <td>1</td>\n",
       "      <td>2019</td>\n",
       "      <td>1</td>\n",
       "    </tr>\n",
       "  </tbody>\n",
       "</table>\n",
       "</div>"
      ],
      "text/plain": [
       "   Duration  EndStation Id  Start Date  StartStation Id  1s Start Hour  Month  \\\n",
       "0      11.0             94  02/01/2019              197   1       1736      1   \n",
       "1       3.0             94  06/01/2019              269   1       1811      1   \n",
       "2      16.0            374  02/01/2019                5   1       1433      1   \n",
       "3       2.0            269  04/01/2019               94   1       1252      1   \n",
       "4       2.0            269  05/01/2019               94   1       1601      1   \n",
       "\n",
       "   Year  Season  \n",
       "0  2019       1  \n",
       "1  2019       1  \n",
       "2  2019       1  \n",
       "3  2019       1  \n",
       "4  2019       1  "
      ]
     },
     "execution_count": 8,
     "metadata": {},
     "output_type": "execute_result"
    }
   ],
   "source": [
    "df['Start Hour'] = df['Start Hour'].apply(lambda x: x.split(':')[0] + x.split(':')[1])\n",
    "# df['End Date'] = df['End Date'].apply(lambda x: x.split()[1])\n",
    "# df['End Date'] = df['End Date'].apply(lambda x: x.split(':')[0] + x.split(':')[1])\n",
    "df['Duration'] = df['Duration']/60\n",
    "df['Start Date'] = df['Start Date'].apply(lambda x: x.split()[0])\n",
    "df['Month'] = pd.DatetimeIndex(df['Start Date'], dayfirst=True).month\n",
    "df['Year'] = pd.DatetimeIndex(df['Start Date'], dayfirst=True).year\n",
    "df['Season'] = df['Month'].apply(lambda x: x%12 // 3 + 1)\n",
    "df.head()"
   ]
  },
  {
   "cell_type": "code",
   "execution_count": 9,
   "metadata": {
    "execution": {
     "iopub.execute_input": "2022-07-12T14:27:08.244635Z",
     "iopub.status.busy": "2022-07-12T14:27:08.244441Z",
     "iopub.status.idle": "2022-07-12T14:27:08.253315Z",
     "shell.execute_reply": "2022-07-12T14:27:08.252790Z",
     "shell.execute_reply.started": "2022-07-12T14:27:08.244614Z"
    }
   },
   "outputs": [
    {
     "data": {
      "text/html": [
       "<div>\n",
       "<style scoped>\n",
       "    .dataframe tbody tr th:only-of-type {\n",
       "        vertical-align: middle;\n",
       "    }\n",
       "\n",
       "    .dataframe tbody tr th {\n",
       "        vertical-align: top;\n",
       "    }\n",
       "\n",
       "    .dataframe thead th {\n",
       "        text-align: right;\n",
       "    }\n",
       "</style>\n",
       "<table border=\"1\" class=\"dataframe\">\n",
       "  <thead>\n",
       "    <tr style=\"text-align: right;\">\n",
       "      <th></th>\n",
       "      <th>Duration</th>\n",
       "      <th>EndStation Id</th>\n",
       "      <th>Start Date</th>\n",
       "      <th>StartStation Id</th>\n",
       "      <th>1s</th>\n",
       "      <th>Start Hour</th>\n",
       "      <th>Month</th>\n",
       "      <th>Year</th>\n",
       "      <th>Season</th>\n",
       "    </tr>\n",
       "  </thead>\n",
       "  <tbody>\n",
       "    <tr>\n",
       "      <th>0</th>\n",
       "      <td>11.0</td>\n",
       "      <td>94</td>\n",
       "      <td>02/01/2019</td>\n",
       "      <td>197</td>\n",
       "      <td>1</td>\n",
       "      <td>1736</td>\n",
       "      <td>1</td>\n",
       "      <td>2019</td>\n",
       "      <td>1</td>\n",
       "    </tr>\n",
       "    <tr>\n",
       "      <th>1</th>\n",
       "      <td>3.0</td>\n",
       "      <td>94</td>\n",
       "      <td>06/01/2019</td>\n",
       "      <td>269</td>\n",
       "      <td>1</td>\n",
       "      <td>1811</td>\n",
       "      <td>1</td>\n",
       "      <td>2019</td>\n",
       "      <td>1</td>\n",
       "    </tr>\n",
       "    <tr>\n",
       "      <th>2</th>\n",
       "      <td>16.0</td>\n",
       "      <td>374</td>\n",
       "      <td>02/01/2019</td>\n",
       "      <td>5</td>\n",
       "      <td>1</td>\n",
       "      <td>1433</td>\n",
       "      <td>1</td>\n",
       "      <td>2019</td>\n",
       "      <td>1</td>\n",
       "    </tr>\n",
       "    <tr>\n",
       "      <th>3</th>\n",
       "      <td>2.0</td>\n",
       "      <td>269</td>\n",
       "      <td>04/01/2019</td>\n",
       "      <td>94</td>\n",
       "      <td>1</td>\n",
       "      <td>1252</td>\n",
       "      <td>1</td>\n",
       "      <td>2019</td>\n",
       "      <td>1</td>\n",
       "    </tr>\n",
       "    <tr>\n",
       "      <th>4</th>\n",
       "      <td>2.0</td>\n",
       "      <td>269</td>\n",
       "      <td>05/01/2019</td>\n",
       "      <td>94</td>\n",
       "      <td>1</td>\n",
       "      <td>1601</td>\n",
       "      <td>1</td>\n",
       "      <td>2019</td>\n",
       "      <td>1</td>\n",
       "    </tr>\n",
       "  </tbody>\n",
       "</table>\n",
       "</div>"
      ],
      "text/plain": [
       "   Duration  EndStation Id  Start Date  StartStation Id  1s Start Hour  Month  \\\n",
       "0      11.0             94  02/01/2019              197   1       1736      1   \n",
       "1       3.0             94  06/01/2019              269   1       1811      1   \n",
       "2      16.0            374  02/01/2019                5   1       1433      1   \n",
       "3       2.0            269  04/01/2019               94   1       1252      1   \n",
       "4       2.0            269  05/01/2019               94   1       1601      1   \n",
       "\n",
       "   Year  Season  \n",
       "0  2019       1  \n",
       "1  2019       1  \n",
       "2  2019       1  \n",
       "3  2019       1  \n",
       "4  2019       1  "
      ]
     },
     "execution_count": 9,
     "metadata": {},
     "output_type": "execute_result"
    }
   ],
   "source": [
    "df.head()"
   ]
  },
  {
   "cell_type": "code",
   "execution_count": 10,
   "metadata": {
    "execution": {
     "iopub.execute_input": "2022-07-12T14:27:08.254585Z",
     "iopub.status.busy": "2022-07-12T14:27:08.254051Z",
     "iopub.status.idle": "2022-07-12T14:27:31.121164Z",
     "shell.execute_reply": "2022-07-12T14:27:31.120270Z",
     "shell.execute_reply.started": "2022-07-12T14:27:08.254562Z"
    }
   },
   "outputs": [
    {
     "data": {
      "image/png": "[encoded data removed]",
      "text/plain": [
       "<Figure size 576x360 with 8 Axes>"
      ]
     },
     "metadata": {
      "needs_background": "light"
     },
     "output_type": "display_data"
    }
   ],
   "source": [
    "# Boxplot, we see that 'Duration' is heavily off, and we need to take care of the outliers\n",
    "df_out = df.drop('Start Date', axis=1)\n",
    "l1 = df_out.columns.values\n",
    "number_of_columns=8\n",
    "number_of_rows=1\n",
    "plt.figure(figsize=(number_of_columns,5*number_of_rows))\n",
    "for i in range(0,len(l1)):\n",
    "    plt.subplot(number_of_rows + 1,number_of_columns,i+1)\n",
    "    sns.set_style('whitegrid')\n",
    "    plt.xlabel(l1[i])\n",
    "    sns.boxplot(data=df_out[l1[i]], orient='v')\n",
    "    plt.tight_layout()"
   ]
  },
  {
   "cell_type": "markdown",
   "metadata": {},
   "source": [
    "Take care of outliers of 'Duration'"
   ]
  },
  {
   "cell_type": "code",
   "execution_count": 11,
   "metadata": {
    "execution": {
     "iopub.execute_input": "2022-07-12T14:27:31.122448Z",
     "iopub.status.busy": "2022-07-12T14:27:31.122284Z",
     "iopub.status.idle": "2022-07-12T14:27:35.067172Z",
     "shell.execute_reply": "2022-07-12T14:27:35.066303Z",
     "shell.execute_reply.started": "2022-07-12T14:27:31.122427Z"
    }
   },
   "outputs": [
    {
     "data": {
      "text/plain": [
       "(29037632, 9)"
      ]
     },
     "execution_count": 11,
     "metadata": {},
     "output_type": "execute_result"
    }
   ],
   "source": [
    "q1=df['Duration'].quantile(0.25)\n",
    "q3=df['Duration'].quantile(0.75)\n",
    "iqr=q3-q1\n",
    "dfc = df[(df['Duration'] >= q1 - 1.5*iqr) & (df['Duration'] <= q3 +1.5*iqr)]\n",
    "dfc.shape"
   ]
  },
  {
   "cell_type": "code",
   "execution_count": 12,
   "metadata": {
    "execution": {
     "iopub.execute_input": "2022-07-12T14:27:35.068416Z",
     "iopub.status.busy": "2022-07-12T14:27:35.068243Z",
     "iopub.status.idle": "2022-07-12T14:27:39.532867Z",
     "shell.execute_reply": "2022-07-12T14:27:39.532405Z",
     "shell.execute_reply.started": "2022-07-12T14:27:35.068396Z"
    }
   },
   "outputs": [
    {
     "name": "stdout",
     "output_type": "stream",
     "text": [
      "<class 'pandas.core.frame.DataFrame'>\n",
      "Int64Index: 29037632 entries, 0 to 31259719\n",
      "Data columns (total 9 columns):\n",
      " #   Column           Dtype  \n",
      "---  ------           -----  \n",
      " 0   Duration         float64\n",
      " 1   EndStation Id    int64  \n",
      " 2   Start Date       object \n",
      " 3   StartStation Id  int64  \n",
      " 4   1s               int64  \n",
      " 5   Start Hour       object \n",
      " 6   Month            int64  \n",
      " 7   Year             int64  \n",
      " 8   Season           int64  \n",
      "dtypes: float64(1), int64(6), object(2)\n",
      "memory usage: 2.2+ GB\n"
     ]
    },
    {
     "data": {
      "text/html": [
       "<div>\n",
       "<style scoped>\n",
       "    .dataframe tbody tr th:only-of-type {\n",
       "        vertical-align: middle;\n",
       "    }\n",
       "\n",
       "    .dataframe tbody tr th {\n",
       "        vertical-align: top;\n",
       "    }\n",
       "\n",
       "    .dataframe thead th {\n",
       "        text-align: right;\n",
       "    }\n",
       "</style>\n",
       "<table border=\"1\" class=\"dataframe\">\n",
       "  <thead>\n",
       "    <tr style=\"text-align: right;\">\n",
       "      <th></th>\n",
       "      <th>Duration</th>\n",
       "      <th>EndStation Id</th>\n",
       "      <th>StartStation Id</th>\n",
       "      <th>1s</th>\n",
       "      <th>Month</th>\n",
       "      <th>Year</th>\n",
       "      <th>Season</th>\n",
       "    </tr>\n",
       "  </thead>\n",
       "  <tbody>\n",
       "    <tr>\n",
       "      <th>count</th>\n",
       "      <td>2.903763e+07</td>\n",
       "      <td>2.903763e+07</td>\n",
       "      <td>2.903763e+07</td>\n",
       "      <td>29037632.0</td>\n",
       "      <td>2.903763e+07</td>\n",
       "      <td>2.903763e+07</td>\n",
       "      <td>2.903763e+07</td>\n",
       "    </tr>\n",
       "    <tr>\n",
       "      <th>mean</th>\n",
       "      <td>1.534095e+01</td>\n",
       "      <td>3.899512e+02</td>\n",
       "      <td>3.912328e+02</td>\n",
       "      <td>1.0</td>\n",
       "      <td>6.763086e+00</td>\n",
       "      <td>2.020007e+03</td>\n",
       "      <td>2.699412e+00</td>\n",
       "    </tr>\n",
       "    <tr>\n",
       "      <th>std</th>\n",
       "      <td>8.818137e+00</td>\n",
       "      <td>2.454492e+02</td>\n",
       "      <td>2.451747e+02</td>\n",
       "      <td>0.0</td>\n",
       "      <td>3.121410e+00</td>\n",
       "      <td>8.246195e-01</td>\n",
       "      <td>1.054857e+00</td>\n",
       "    </tr>\n",
       "    <tr>\n",
       "      <th>min</th>\n",
       "      <td>1.000000e+00</td>\n",
       "      <td>1.000000e+00</td>\n",
       "      <td>1.000000e+00</td>\n",
       "      <td>1.0</td>\n",
       "      <td>1.000000e+00</td>\n",
       "      <td>2.019000e+03</td>\n",
       "      <td>1.000000e+00</td>\n",
       "    </tr>\n",
       "    <tr>\n",
       "      <th>25%</th>\n",
       "      <td>8.000000e+00</td>\n",
       "      <td>1.830000e+02</td>\n",
       "      <td>1.830000e+02</td>\n",
       "      <td>1.0</td>\n",
       "      <td>4.000000e+00</td>\n",
       "      <td>2.019000e+03</td>\n",
       "      <td>2.000000e+00</td>\n",
       "    </tr>\n",
       "    <tr>\n",
       "      <th>50%</th>\n",
       "      <td>1.400000e+01</td>\n",
       "      <td>3.560000e+02</td>\n",
       "      <td>3.580000e+02</td>\n",
       "      <td>1.0</td>\n",
       "      <td>7.000000e+00</td>\n",
       "      <td>2.020000e+03</td>\n",
       "      <td>3.000000e+00</td>\n",
       "    </tr>\n",
       "    <tr>\n",
       "      <th>75%</th>\n",
       "      <td>2.100000e+01</td>\n",
       "      <td>6.030000e+02</td>\n",
       "      <td>6.040000e+02</td>\n",
       "      <td>1.0</td>\n",
       "      <td>9.000000e+00</td>\n",
       "      <td>2.021000e+03</td>\n",
       "      <td>4.000000e+00</td>\n",
       "    </tr>\n",
       "    <tr>\n",
       "      <th>max</th>\n",
       "      <td>4.400000e+01</td>\n",
       "      <td>8.450000e+02</td>\n",
       "      <td>8.450000e+02</td>\n",
       "      <td>1.0</td>\n",
       "      <td>1.200000e+01</td>\n",
       "      <td>2.021000e+03</td>\n",
       "      <td>4.000000e+00</td>\n",
       "    </tr>\n",
       "  </tbody>\n",
       "</table>\n",
       "</div>"
      ],
      "text/plain": [
       "           Duration  EndStation Id  StartStation Id          1s         Month  \\\n",
       "count  2.903763e+07   2.903763e+07     2.903763e+07  29037632.0  2.903763e+07   \n",
       "mean   1.534095e+01   3.899512e+02     3.912328e+02         1.0  6.763086e+00   \n",
       "std    8.818137e+00   2.454492e+02     2.451747e+02         0.0  3.121410e+00   \n",
       "min    1.000000e+00   1.000000e+00     1.000000e+00         1.0  1.000000e+00   \n",
       "25%    8.000000e+00   1.830000e+02     1.830000e+02         1.0  4.000000e+00   \n",
       "50%    1.400000e+01   3.560000e+02     3.580000e+02         1.0  7.000000e+00   \n",
       "75%    2.100000e+01   6.030000e+02     6.040000e+02         1.0  9.000000e+00   \n",
       "max    4.400000e+01   8.450000e+02     8.450000e+02         1.0  1.200000e+01   \n",
       "\n",
       "               Year        Season  \n",
       "count  2.903763e+07  2.903763e+07  \n",
       "mean   2.020007e+03  2.699412e+00  \n",
       "std    8.246195e-01  1.054857e+00  \n",
       "min    2.019000e+03  1.000000e+00  \n",
       "25%    2.019000e+03  2.000000e+00  \n",
       "50%    2.020000e+03  3.000000e+00  \n",
       "75%    2.021000e+03  4.000000e+00  \n",
       "max    2.021000e+03  4.000000e+00  "
      ]
     },
     "execution_count": 12,
     "metadata": {},
     "output_type": "execute_result"
    }
   ],
   "source": [
    "dfc.info()\n",
    "dfc.describe()"
   ]
  },
  {
   "cell_type": "code",
   "execution_count": 13,
   "metadata": {
    "execution": {
     "iopub.execute_input": "2022-07-12T14:27:39.534370Z",
     "iopub.status.busy": "2022-07-12T14:27:39.533831Z",
     "iopub.status.idle": "2022-07-12T14:27:39.542313Z",
     "shell.execute_reply": "2022-07-12T14:27:39.541963Z",
     "shell.execute_reply.started": "2022-07-12T14:27:39.534344Z"
    }
   },
   "outputs": [
    {
     "data": {
      "text/html": [
       "<div>\n",
       "<style scoped>\n",
       "    .dataframe tbody tr th:only-of-type {\n",
       "        vertical-align: middle;\n",
       "    }\n",
       "\n",
       "    .dataframe tbody tr th {\n",
       "        vertical-align: top;\n",
       "    }\n",
       "\n",
       "    .dataframe thead th {\n",
       "        text-align: right;\n",
       "    }\n",
       "</style>\n",
       "<table border=\"1\" class=\"dataframe\">\n",
       "  <thead>\n",
       "    <tr style=\"text-align: right;\">\n",
       "      <th></th>\n",
       "      <th>Duration</th>\n",
       "      <th>EndStation Id</th>\n",
       "      <th>Start Date</th>\n",
       "      <th>StartStation Id</th>\n",
       "      <th>1s</th>\n",
       "      <th>Start Hour</th>\n",
       "      <th>Month</th>\n",
       "      <th>Year</th>\n",
       "      <th>Season</th>\n",
       "    </tr>\n",
       "  </thead>\n",
       "  <tbody>\n",
       "    <tr>\n",
       "      <th>0</th>\n",
       "      <td>11.0</td>\n",
       "      <td>94</td>\n",
       "      <td>02/01/2019</td>\n",
       "      <td>197</td>\n",
       "      <td>1</td>\n",
       "      <td>1736</td>\n",
       "      <td>1</td>\n",
       "      <td>2019</td>\n",
       "      <td>1</td>\n",
       "    </tr>\n",
       "    <tr>\n",
       "      <th>1</th>\n",
       "      <td>3.0</td>\n",
       "      <td>94</td>\n",
       "      <td>06/01/2019</td>\n",
       "      <td>269</td>\n",
       "      <td>1</td>\n",
       "      <td>1811</td>\n",
       "      <td>1</td>\n",
       "      <td>2019</td>\n",
       "      <td>1</td>\n",
       "    </tr>\n",
       "    <tr>\n",
       "      <th>2</th>\n",
       "      <td>16.0</td>\n",
       "      <td>374</td>\n",
       "      <td>02/01/2019</td>\n",
       "      <td>5</td>\n",
       "      <td>1</td>\n",
       "      <td>1433</td>\n",
       "      <td>1</td>\n",
       "      <td>2019</td>\n",
       "      <td>1</td>\n",
       "    </tr>\n",
       "    <tr>\n",
       "      <th>3</th>\n",
       "      <td>2.0</td>\n",
       "      <td>269</td>\n",
       "      <td>04/01/2019</td>\n",
       "      <td>94</td>\n",
       "      <td>1</td>\n",
       "      <td>1252</td>\n",
       "      <td>1</td>\n",
       "      <td>2019</td>\n",
       "      <td>1</td>\n",
       "    </tr>\n",
       "    <tr>\n",
       "      <th>4</th>\n",
       "      <td>2.0</td>\n",
       "      <td>269</td>\n",
       "      <td>05/01/2019</td>\n",
       "      <td>94</td>\n",
       "      <td>1</td>\n",
       "      <td>1601</td>\n",
       "      <td>1</td>\n",
       "      <td>2019</td>\n",
       "      <td>1</td>\n",
       "    </tr>\n",
       "  </tbody>\n",
       "</table>\n",
       "</div>"
      ],
      "text/plain": [
       "   Duration  EndStation Id  Start Date  StartStation Id  1s Start Hour  Month  \\\n",
       "0      11.0             94  02/01/2019              197   1       1736      1   \n",
       "1       3.0             94  06/01/2019              269   1       1811      1   \n",
       "2      16.0            374  02/01/2019                5   1       1433      1   \n",
       "3       2.0            269  04/01/2019               94   1       1252      1   \n",
       "4       2.0            269  05/01/2019               94   1       1601      1   \n",
       "\n",
       "   Year  Season  \n",
       "0  2019       1  \n",
       "1  2019       1  \n",
       "2  2019       1  \n",
       "3  2019       1  \n",
       "4  2019       1  "
      ]
     },
     "execution_count": 13,
     "metadata": {},
     "output_type": "execute_result"
    }
   ],
   "source": [
    "dfc.head()"
   ]
  },
  {
   "cell_type": "markdown",
   "metadata": {},
   "source": [
    "At this point, to make the dataset smaller, and to concentrate the results"
   ]
  },
  {
   "cell_type": "code",
   "execution_count": 14,
   "metadata": {
    "execution": {
     "iopub.execute_input": "2022-07-12T14:27:39.543389Z",
     "iopub.status.busy": "2022-07-12T14:27:39.543054Z",
     "iopub.status.idle": "2022-07-12T14:27:43.736390Z",
     "shell.execute_reply": "2022-07-12T14:27:43.735916Z",
     "shell.execute_reply.started": "2022-07-12T14:27:39.543368Z"
    }
   },
   "outputs": [],
   "source": [
    "ucount = dfc.groupby('Start Date')['1s'].sum().apply(lambda x: np.unique(x))\n",
    "ucount = ucount.apply(lambda x: x[0])\n",
    "ucount.head()\n",
    "dframe = pd.Series.to_frame(ucount)\n",
    "dframe['Duration'] = dfc.groupby('Start Date')['Duration'].sum()\n",
    "dframe['Count'] = dframe['1s']"
   ]
  },
  {
   "cell_type": "code",
   "execution_count": 15,
   "metadata": {
    "execution": {
     "iopub.execute_input": "2022-07-12T14:27:43.737888Z",
     "iopub.status.busy": "2022-07-12T14:27:43.737298Z",
     "iopub.status.idle": "2022-07-12T14:27:43.744358Z",
     "shell.execute_reply": "2022-07-12T14:27:43.744012Z",
     "shell.execute_reply.started": "2022-07-12T14:27:43.737818Z"
    }
   },
   "outputs": [
    {
     "data": {
      "text/html": [
       "<div>\n",
       "<style scoped>\n",
       "    .dataframe tbody tr th:only-of-type {\n",
       "        vertical-align: middle;\n",
       "    }\n",
       "\n",
       "    .dataframe tbody tr th {\n",
       "        vertical-align: top;\n",
       "    }\n",
       "\n",
       "    .dataframe thead th {\n",
       "        text-align: right;\n",
       "    }\n",
       "</style>\n",
       "<table border=\"1\" class=\"dataframe\">\n",
       "  <thead>\n",
       "    <tr style=\"text-align: right;\">\n",
       "      <th></th>\n",
       "      <th>1s</th>\n",
       "      <th>Duration</th>\n",
       "      <th>Count</th>\n",
       "    </tr>\n",
       "    <tr>\n",
       "      <th>Start Date</th>\n",
       "      <th></th>\n",
       "      <th></th>\n",
       "      <th></th>\n",
       "    </tr>\n",
       "  </thead>\n",
       "  <tbody>\n",
       "    <tr>\n",
       "      <th>01/01/2020</th>\n",
       "      <td>9694</td>\n",
       "      <td>156317.0</td>\n",
       "      <td>9694</td>\n",
       "    </tr>\n",
       "    <tr>\n",
       "      <th>01/01/2021</th>\n",
       "      <td>9392</td>\n",
       "      <td>167823.0</td>\n",
       "      <td>9392</td>\n",
       "    </tr>\n",
       "    <tr>\n",
       "      <th>01/02/2019</th>\n",
       "      <td>12631</td>\n",
       "      <td>149350.0</td>\n",
       "      <td>12631</td>\n",
       "    </tr>\n",
       "    <tr>\n",
       "      <th>01/02/2020</th>\n",
       "      <td>18827</td>\n",
       "      <td>274894.0</td>\n",
       "      <td>18827</td>\n",
       "    </tr>\n",
       "    <tr>\n",
       "      <th>01/02/2021</th>\n",
       "      <td>11859</td>\n",
       "      <td>178810.0</td>\n",
       "      <td>11859</td>\n",
       "    </tr>\n",
       "  </tbody>\n",
       "</table>\n",
       "</div>"
      ],
      "text/plain": [
       "               1s  Duration  Count\n",
       "Start Date                        \n",
       "01/01/2020   9694  156317.0   9694\n",
       "01/01/2021   9392  167823.0   9392\n",
       "01/02/2019  12631  149350.0  12631\n",
       "01/02/2020  18827  274894.0  18827\n",
       "01/02/2021  11859  178810.0  11859"
      ]
     },
     "execution_count": 15,
     "metadata": {},
     "output_type": "execute_result"
    }
   ],
   "source": [
    "dframe.head()"
   ]
  },
  {
   "cell_type": "code",
   "execution_count": 16,
   "metadata": {
    "execution": {
     "iopub.execute_input": "2022-07-12T14:27:43.745754Z",
     "iopub.status.busy": "2022-07-12T14:27:43.745084Z",
     "iopub.status.idle": "2022-07-12T14:27:43.754002Z",
     "shell.execute_reply": "2022-07-12T14:27:43.753659Z",
     "shell.execute_reply.started": "2022-07-12T14:27:43.745732Z"
    }
   },
   "outputs": [],
   "source": [
    "dframe = dframe.drop('1s', axis=1)\n",
    "dframe.index = pd.to_datetime(dframe.index, dayfirst=True)\n",
    "dframe['Year'] = dframe.index.year\n",
    "dframe['Month'] = dframe.index.month\n",
    "dframe['Duration'] = dframe['Duration']/60\n",
    "dframe['Duration'] = dframe['Duration'].astype(int)\n",
    "dframe['Season'] = dframe['Month'].apply(lambda x: x%12 // 3 + 1)"
   ]
  },
  {
   "cell_type": "code",
   "execution_count": 17,
   "metadata": {
    "execution": {
     "iopub.execute_input": "2022-07-12T14:27:43.754965Z",
     "iopub.status.busy": "2022-07-12T14:27:43.754635Z",
     "iopub.status.idle": "2022-07-12T14:27:43.758225Z",
     "shell.execute_reply": "2022-07-12T14:27:43.757897Z",
     "shell.execute_reply.started": "2022-07-12T14:27:43.754946Z"
    }
   },
   "outputs": [
    {
     "data": {
      "text/plain": [
       "(1085, 5)"
      ]
     },
     "execution_count": 17,
     "metadata": {},
     "output_type": "execute_result"
    }
   ],
   "source": [
    "dframe.shape"
   ]
  },
  {
   "cell_type": "code",
   "execution_count": 18,
   "metadata": {
    "execution": {
     "iopub.execute_input": "2022-07-12T14:27:43.759121Z",
     "iopub.status.busy": "2022-07-12T14:27:43.758878Z",
     "iopub.status.idle": "2022-07-12T14:27:43.765494Z",
     "shell.execute_reply": "2022-07-12T14:27:43.765164Z",
     "shell.execute_reply.started": "2022-07-12T14:27:43.759103Z"
    }
   },
   "outputs": [
    {
     "data": {
      "text/html": [
       "<div>\n",
       "<style scoped>\n",
       "    .dataframe tbody tr th:only-of-type {\n",
       "        vertical-align: middle;\n",
       "    }\n",
       "\n",
       "    .dataframe tbody tr th {\n",
       "        vertical-align: top;\n",
       "    }\n",
       "\n",
       "    .dataframe thead th {\n",
       "        text-align: right;\n",
       "    }\n",
       "</style>\n",
       "<table border=\"1\" class=\"dataframe\">\n",
       "  <thead>\n",
       "    <tr style=\"text-align: right;\">\n",
       "      <th></th>\n",
       "      <th>Duration</th>\n",
       "      <th>Count</th>\n",
       "      <th>Year</th>\n",
       "      <th>Month</th>\n",
       "      <th>Season</th>\n",
       "    </tr>\n",
       "    <tr>\n",
       "      <th>Start Date</th>\n",
       "      <th></th>\n",
       "      <th></th>\n",
       "      <th></th>\n",
       "      <th></th>\n",
       "      <th></th>\n",
       "    </tr>\n",
       "  </thead>\n",
       "  <tbody>\n",
       "    <tr>\n",
       "      <th>2020-01-01</th>\n",
       "      <td>2605</td>\n",
       "      <td>9694</td>\n",
       "      <td>2020</td>\n",
       "      <td>1</td>\n",
       "      <td>1</td>\n",
       "    </tr>\n",
       "    <tr>\n",
       "      <th>2021-01-01</th>\n",
       "      <td>2797</td>\n",
       "      <td>9392</td>\n",
       "      <td>2021</td>\n",
       "      <td>1</td>\n",
       "      <td>1</td>\n",
       "    </tr>\n",
       "    <tr>\n",
       "      <th>2019-02-01</th>\n",
       "      <td>2489</td>\n",
       "      <td>12631</td>\n",
       "      <td>2019</td>\n",
       "      <td>2</td>\n",
       "      <td>1</td>\n",
       "    </tr>\n",
       "    <tr>\n",
       "      <th>2020-02-01</th>\n",
       "      <td>4581</td>\n",
       "      <td>18827</td>\n",
       "      <td>2020</td>\n",
       "      <td>2</td>\n",
       "      <td>1</td>\n",
       "    </tr>\n",
       "    <tr>\n",
       "      <th>2021-02-01</th>\n",
       "      <td>2980</td>\n",
       "      <td>11859</td>\n",
       "      <td>2021</td>\n",
       "      <td>2</td>\n",
       "      <td>1</td>\n",
       "    </tr>\n",
       "  </tbody>\n",
       "</table>\n",
       "</div>"
      ],
      "text/plain": [
       "            Duration  Count  Year  Month  Season\n",
       "Start Date                                      \n",
       "2020-01-01      2605   9694  2020      1       1\n",
       "2021-01-01      2797   9392  2021      1       1\n",
       "2019-02-01      2489  12631  2019      2       1\n",
       "2020-02-01      4581  18827  2020      2       1\n",
       "2021-02-01      2980  11859  2021      2       1"
      ]
     },
     "execution_count": 18,
     "metadata": {},
     "output_type": "execute_result"
    }
   ],
   "source": [
    "dframe.head()"
   ]
  },
  {
   "cell_type": "code",
   "execution_count": 19,
   "metadata": {
    "execution": {
     "iopub.execute_input": "2022-07-12T14:27:43.766645Z",
     "iopub.status.busy": "2022-07-12T14:27:43.766323Z",
     "iopub.status.idle": "2022-07-12T14:27:43.780512Z",
     "shell.execute_reply": "2022-07-12T14:27:43.780176Z",
     "shell.execute_reply.started": "2022-07-12T14:27:43.766627Z"
    }
   },
   "outputs": [
    {
     "data": {
      "text/html": [
       "<div>\n",
       "<style scoped>\n",
       "    .dataframe tbody tr th:only-of-type {\n",
       "        vertical-align: middle;\n",
       "    }\n",
       "\n",
       "    .dataframe tbody tr th {\n",
       "        vertical-align: top;\n",
       "    }\n",
       "\n",
       "    .dataframe thead th {\n",
       "        text-align: right;\n",
       "    }\n",
       "</style>\n",
       "<table border=\"1\" class=\"dataframe\">\n",
       "  <thead>\n",
       "    <tr style=\"text-align: right;\">\n",
       "      <th></th>\n",
       "      <th>Duration</th>\n",
       "      <th>Count</th>\n",
       "      <th>Year</th>\n",
       "      <th>Month</th>\n",
       "      <th>Season</th>\n",
       "    </tr>\n",
       "  </thead>\n",
       "  <tbody>\n",
       "    <tr>\n",
       "      <th>count</th>\n",
       "      <td>1085.000000</td>\n",
       "      <td>1085.000000</td>\n",
       "      <td>1085.000000</td>\n",
       "      <td>1085.000000</td>\n",
       "      <td>1085.000000</td>\n",
       "    </tr>\n",
       "    <tr>\n",
       "      <th>mean</th>\n",
       "      <td>6842.302304</td>\n",
       "      <td>26762.794470</td>\n",
       "      <td>2019.991705</td>\n",
       "      <td>6.476498</td>\n",
       "      <td>2.517972</td>\n",
       "    </tr>\n",
       "    <tr>\n",
       "      <th>std</th>\n",
       "      <td>2658.445800</td>\n",
       "      <td>9083.202591</td>\n",
       "      <td>0.814380</td>\n",
       "      <td>3.423472</td>\n",
       "      <td>1.110541</td>\n",
       "    </tr>\n",
       "    <tr>\n",
       "      <th>min</th>\n",
       "      <td>1145.000000</td>\n",
       "      <td>4500.000000</td>\n",
       "      <td>2019.000000</td>\n",
       "      <td>1.000000</td>\n",
       "      <td>1.000000</td>\n",
       "    </tr>\n",
       "    <tr>\n",
       "      <th>25%</th>\n",
       "      <td>4999.000000</td>\n",
       "      <td>20459.000000</td>\n",
       "      <td>2019.000000</td>\n",
       "      <td>4.000000</td>\n",
       "      <td>2.000000</td>\n",
       "    </tr>\n",
       "    <tr>\n",
       "      <th>50%</th>\n",
       "      <td>6594.000000</td>\n",
       "      <td>27391.000000</td>\n",
       "      <td>2020.000000</td>\n",
       "      <td>6.000000</td>\n",
       "      <td>3.000000</td>\n",
       "    </tr>\n",
       "    <tr>\n",
       "      <th>75%</th>\n",
       "      <td>8698.000000</td>\n",
       "      <td>33238.000000</td>\n",
       "      <td>2021.000000</td>\n",
       "      <td>9.000000</td>\n",
       "      <td>4.000000</td>\n",
       "    </tr>\n",
       "    <tr>\n",
       "      <th>max</th>\n",
       "      <td>17876.000000</td>\n",
       "      <td>51850.000000</td>\n",
       "      <td>2021.000000</td>\n",
       "      <td>12.000000</td>\n",
       "      <td>4.000000</td>\n",
       "    </tr>\n",
       "  </tbody>\n",
       "</table>\n",
       "</div>"
      ],
      "text/plain": [
       "           Duration         Count         Year        Month       Season\n",
       "count   1085.000000   1085.000000  1085.000000  1085.000000  1085.000000\n",
       "mean    6842.302304  26762.794470  2019.991705     6.476498     2.517972\n",
       "std     2658.445800   9083.202591     0.814380     3.423472     1.110541\n",
       "min     1145.000000   4500.000000  2019.000000     1.000000     1.000000\n",
       "25%     4999.000000  20459.000000  2019.000000     4.000000     2.000000\n",
       "50%     6594.000000  27391.000000  2020.000000     6.000000     3.000000\n",
       "75%     8698.000000  33238.000000  2021.000000     9.000000     4.000000\n",
       "max    17876.000000  51850.000000  2021.000000    12.000000     4.000000"
      ]
     },
     "execution_count": 19,
     "metadata": {},
     "output_type": "execute_result"
    }
   ],
   "source": [
    "dframe.describe() "
   ]
  },
  {
   "cell_type": "markdown",
   "metadata": {},
   "source": [
    "These are the correct statistics! Mean is around 6500 vs the ~9000 that it would have been, if we first aggregated and didn't take care of outliers."
   ]
  },
  {
   "cell_type": "code",
   "execution_count": 20,
   "metadata": {
    "execution": {
     "iopub.execute_input": "2022-07-12T14:27:43.783141Z",
     "iopub.status.busy": "2022-07-12T14:27:43.782681Z",
     "iopub.status.idle": "2022-07-12T14:27:43.786220Z",
     "shell.execute_reply": "2022-07-12T14:27:43.785693Z",
     "shell.execute_reply.started": "2022-07-12T14:27:43.783120Z"
    }
   },
   "outputs": [],
   "source": [
    "dframe.index = [i for i in range(len(dframe))]"
   ]
  },
  {
   "cell_type": "code",
   "execution_count": 21,
   "metadata": {
    "execution": {
     "iopub.execute_input": "2022-07-12T14:27:43.787328Z",
     "iopub.status.busy": "2022-07-12T14:27:43.786862Z",
     "iopub.status.idle": "2022-07-12T14:27:43.857267Z",
     "shell.execute_reply": "2022-07-12T14:27:43.856894Z",
     "shell.execute_reply.started": "2022-07-12T14:27:43.787306Z"
    }
   },
   "outputs": [
    {
     "data": {
      "text/plain": [
       "<AxesSubplot:>"
      ]
     },
     "execution_count": 21,
     "metadata": {},
     "output_type": "execute_result"
    },
    {
     "data": {
      "image/png": "[encoded data removed]",
      "text/plain": [
       "<Figure size 432x288 with 1 Axes>"
      ]
     },
     "metadata": {},
     "output_type": "display_data"
    }
   ],
   "source": [
    "# Check for missing values\n",
    "sns.heatmap(dframe.isnull(),cbar=False,yticklabels=False,cmap = 'viridis')"
   ]
  },
  {
   "cell_type": "code",
   "execution_count": 22,
   "metadata": {
    "execution": {
     "iopub.execute_input": "2022-07-12T14:27:43.858384Z",
     "iopub.status.busy": "2022-07-12T14:27:43.858028Z",
     "iopub.status.idle": "2022-07-12T14:27:44.036234Z",
     "shell.execute_reply": "2022-07-12T14:27:44.035730Z",
     "shell.execute_reply.started": "2022-07-12T14:27:43.858363Z"
    }
   },
   "outputs": [
    {
     "data": {
      "text/plain": [
       "<AxesSubplot:>"
      ]
     },
     "execution_count": 22,
     "metadata": {},
     "output_type": "execute_result"
    },
    {
     "data": {
      "image/png": "[encoded data removed]",
      "text/plain": [
       "<Figure size 720x432 with 2 Axes>"
      ]
     },
     "metadata": {},
     "output_type": "display_data"
    }
   ],
   "source": [
    "# Quality correlation matrix\n",
    "k = 5 #number of variables for heatmap\n",
    "cols = dframe.corr().nlargest(k, 'Duration')['Duration'].index\n",
    "cm = dframe[cols].corr()\n",
    "plt.figure(figsize=(10,6))\n",
    "sns.heatmap(cm, annot=True, cmap = 'viridis')"
   ]
  },
  {
   "cell_type": "markdown",
   "metadata": {},
   "source": [
    "5. Exploratory Analysis"
   ]
  },
  {
   "cell_type": "code",
   "execution_count": 23,
   "metadata": {
    "execution": {
     "iopub.execute_input": "2022-07-12T14:27:44.037649Z",
     "iopub.status.busy": "2022-07-12T14:27:44.037090Z",
     "iopub.status.idle": "2022-07-12T14:27:44.749683Z",
     "shell.execute_reply": "2022-07-12T14:27:44.749277Z",
     "shell.execute_reply.started": "2022-07-12T14:27:44.037585Z"
    }
   },
   "outputs": [
    {
     "data": {
      "image/png": "[encoded data removed]",
      "text/plain": [
       "<Figure size 360x360 with 6 Axes>"
      ]
     },
     "metadata": {},
     "output_type": "display_data"
    }
   ],
   "source": [
    "sns.pairplot(dframe[['Duration', 'Count']], diag_kind='kde')\n",
    "plt.show()"
   ]
  },
  {
   "cell_type": "markdown",
   "metadata": {},
   "source": [
    "The above plot shows a linear relationship between 'Count' and 'Duration'."
   ]
  },
  {
   "cell_type": "code",
   "execution_count": 24,
   "metadata": {
    "execution": {
     "iopub.execute_input": "2022-07-12T14:27:44.750800Z",
     "iopub.status.busy": "2022-07-12T14:27:44.750404Z",
     "iopub.status.idle": "2022-07-12T14:28:08.846884Z",
     "shell.execute_reply": "2022-07-12T14:28:08.846483Z",
     "shell.execute_reply.started": "2022-07-12T14:27:44.750777Z"
    }
   },
   "outputs": [
    {
     "data": {
      "image/png": "[encoded data removed]",
      "text/plain": [
       "<Figure size 1800x720 with 4 Axes>"
      ]
     },
     "metadata": {},
     "output_type": "display_data"
    }
   ],
   "source": [
    "plt.figure(figsize=(25, 10))\n",
    "plt.subplot(2,2,1)\n",
    "sns.boxplot(x = 'Season', y = 'Duration', data = dframe)\n",
    "plt.subplot(2,2,2)\n",
    "sns.boxplot(x = 'Month', y = 'Duration', data = dframe)\n",
    "plt.subplot(2,2,3)\n",
    "sns.boxplot(x = 'Year', y = 'Duration', data = dframe)\n",
    "plt.subplot(2,2,4)\n",
    "sns.boxplot(x = 'Count', y = 'Duration', data = dframe)\n",
    "plt.show()"
   ]
  },
  {
   "cell_type": "markdown",
   "metadata": {},
   "source": [
    "Insights\n",
    "\n",
    "There were 5 categorical variables in the dataset.\n",
    "\n",
    "We used Box plot (refer the fig above) to study their effect on the dependent variable (‘Count’) .\n",
    "\n",
    "The boxplot shows that 'Season', 'Year', 'Duration' and 'Month' could be good variables to predict 'Count'."
   ]
  },
  {
   "cell_type": "code",
   "execution_count": 25,
   "metadata": {
    "execution": {
     "iopub.execute_input": "2022-07-12T14:28:08.848151Z",
     "iopub.status.busy": "2022-07-12T14:28:08.847605Z",
     "iopub.status.idle": "2022-07-12T14:28:09.242582Z",
     "shell.execute_reply": "2022-07-12T14:28:09.242175Z",
     "shell.execute_reply.started": "2022-07-12T14:28:08.848128Z"
    }
   },
   "outputs": [
    {
     "data": {
      "image/png": "[encoded data removed]",
      "text/plain": [
       "<Figure size 504x360 with 5 Axes>"
      ]
     },
     "metadata": {},
     "output_type": "display_data"
    }
   ],
   "source": [
    "l = dframe.columns.values\n",
    "number_of_columns=7\n",
    "number_of_rows=1\n",
    "plt.figure(figsize=(number_of_columns,5*number_of_rows))\n",
    "for i in range(0,len(l)):\n",
    "    plt.subplot(number_of_rows + 1,number_of_columns,i+1)\n",
    "    sns.set_style('whitegrid')\n",
    "    plt.xlabel(l[i])\n",
    "    sns.boxplot(data=dframe[l[i]], orient='v')\n",
    "    plt.tight_layout()"
   ]
  },
  {
   "cell_type": "markdown",
   "metadata": {},
   "source": [
    "In the above boxplot, we see how these 5 features are spread. "
   ]
  },
  {
   "cell_type": "markdown",
   "metadata": {},
   "source": [
    "6. Data Science modelling"
   ]
  },
  {
   "cell_type": "markdown",
   "metadata": {},
   "source": [
    "First, let's create dummy variables to include month1, ..., month12, season1, ..., season4, year1, ..., year3 as distinct variables in our linear model."
   ]
  },
  {
   "cell_type": "code",
   "execution_count": 26,
   "metadata": {
    "execution": {
     "iopub.execute_input": "2022-07-12T14:28:09.243844Z",
     "iopub.status.busy": "2022-07-12T14:28:09.243320Z",
     "iopub.status.idle": "2022-07-12T14:28:09.247399Z",
     "shell.execute_reply": "2022-07-12T14:28:09.247017Z",
     "shell.execute_reply.started": "2022-07-12T14:28:09.243820Z"
    }
   },
   "outputs": [],
   "source": [
    "df_new=dframe[['Season', 'Year', 'Month', 'Count', 'Duration',]]"
   ]
  },
  {
   "cell_type": "code",
   "execution_count": 27,
   "metadata": {
    "execution": {
     "iopub.execute_input": "2022-07-12T14:28:09.248586Z",
     "iopub.status.busy": "2022-07-12T14:28:09.248006Z",
     "iopub.status.idle": "2022-07-12T14:28:09.255751Z",
     "shell.execute_reply": "2022-07-12T14:28:09.255397Z",
     "shell.execute_reply.started": "2022-07-12T14:28:09.248564Z"
    }
   },
   "outputs": [
    {
     "name": "stdout",
     "output_type": "stream",
     "text": [
      "<class 'pandas.core.frame.DataFrame'>\n",
      "Int64Index: 1085 entries, 0 to 1084\n",
      "Data columns (total 5 columns):\n",
      " #   Column    Non-Null Count  Dtype\n",
      "---  ------    --------------  -----\n",
      " 0   Season    1085 non-null   int64\n",
      " 1   Year      1085 non-null   int64\n",
      " 2   Month     1085 non-null   int64\n",
      " 3   Count     1085 non-null   int64\n",
      " 4   Duration  1085 non-null   int64\n",
      "dtypes: int64(5)\n",
      "memory usage: 83.1 KB\n"
     ]
    }
   ],
   "source": [
    "df_new.info()"
   ]
  },
  {
   "cell_type": "code",
   "execution_count": 28,
   "metadata": {
    "execution": {
     "iopub.execute_input": "2022-07-12T14:28:09.256990Z",
     "iopub.status.busy": "2022-07-12T14:28:09.256499Z",
     "iopub.status.idle": "2022-07-12T14:28:09.261629Z",
     "shell.execute_reply": "2022-07-12T14:28:09.261106Z",
     "shell.execute_reply.started": "2022-07-12T14:28:09.256970Z"
    }
   },
   "outputs": [],
   "source": [
    "df_new['Season']=df_new['Season'].astype('category')\n",
    "df_new['Month']=df_new['Month'].astype('category')\n",
    "df_new['Year']=df_new['Year'].astype('category')"
   ]
  },
  {
   "cell_type": "code",
   "execution_count": 29,
   "metadata": {
    "execution": {
     "iopub.execute_input": "2022-07-12T14:28:09.262760Z",
     "iopub.status.busy": "2022-07-12T14:28:09.262333Z",
     "iopub.status.idle": "2022-07-12T14:28:09.269095Z",
     "shell.execute_reply": "2022-07-12T14:28:09.268741Z",
     "shell.execute_reply.started": "2022-07-12T14:28:09.262740Z"
    }
   },
   "outputs": [
    {
     "data": {
      "text/html": [
       "<div>\n",
       "<style scoped>\n",
       "    .dataframe tbody tr th:only-of-type {\n",
       "        vertical-align: middle;\n",
       "    }\n",
       "\n",
       "    .dataframe tbody tr th {\n",
       "        vertical-align: top;\n",
       "    }\n",
       "\n",
       "    .dataframe thead th {\n",
       "        text-align: right;\n",
       "    }\n",
       "</style>\n",
       "<table border=\"1\" class=\"dataframe\">\n",
       "  <thead>\n",
       "    <tr style=\"text-align: right;\">\n",
       "      <th></th>\n",
       "      <th>Season</th>\n",
       "      <th>Year</th>\n",
       "      <th>Month</th>\n",
       "      <th>Count</th>\n",
       "      <th>Duration</th>\n",
       "    </tr>\n",
       "  </thead>\n",
       "  <tbody>\n",
       "    <tr>\n",
       "      <th>0</th>\n",
       "      <td>1</td>\n",
       "      <td>2020</td>\n",
       "      <td>1</td>\n",
       "      <td>9694</td>\n",
       "      <td>2605</td>\n",
       "    </tr>\n",
       "    <tr>\n",
       "      <th>1</th>\n",
       "      <td>1</td>\n",
       "      <td>2021</td>\n",
       "      <td>1</td>\n",
       "      <td>9392</td>\n",
       "      <td>2797</td>\n",
       "    </tr>\n",
       "    <tr>\n",
       "      <th>2</th>\n",
       "      <td>1</td>\n",
       "      <td>2019</td>\n",
       "      <td>2</td>\n",
       "      <td>12631</td>\n",
       "      <td>2489</td>\n",
       "    </tr>\n",
       "    <tr>\n",
       "      <th>3</th>\n",
       "      <td>1</td>\n",
       "      <td>2020</td>\n",
       "      <td>2</td>\n",
       "      <td>18827</td>\n",
       "      <td>4581</td>\n",
       "    </tr>\n",
       "    <tr>\n",
       "      <th>4</th>\n",
       "      <td>1</td>\n",
       "      <td>2021</td>\n",
       "      <td>2</td>\n",
       "      <td>11859</td>\n",
       "      <td>2980</td>\n",
       "    </tr>\n",
       "  </tbody>\n",
       "</table>\n",
       "</div>"
      ],
      "text/plain": [
       "  Season  Year Month  Count  Duration\n",
       "0      1  2020     1   9694      2605\n",
       "1      1  2021     1   9392      2797\n",
       "2      1  2019     2  12631      2489\n",
       "3      1  2020     2  18827      4581\n",
       "4      1  2021     2  11859      2980"
      ]
     },
     "execution_count": 29,
     "metadata": {},
     "output_type": "execute_result"
    }
   ],
   "source": [
    "df_new.head()"
   ]
  },
  {
   "cell_type": "code",
   "execution_count": 30,
   "metadata": {
    "execution": {
     "iopub.execute_input": "2022-07-12T14:28:09.270260Z",
     "iopub.status.busy": "2022-07-12T14:28:09.269637Z",
     "iopub.status.idle": "2022-07-12T14:28:09.277588Z",
     "shell.execute_reply": "2022-07-12T14:28:09.277225Z",
     "shell.execute_reply.started": "2022-07-12T14:28:09.270239Z"
    }
   },
   "outputs": [
    {
     "name": "stdout",
     "output_type": "stream",
     "text": [
      "<class 'pandas.core.frame.DataFrame'>\n",
      "Int64Index: 1085 entries, 0 to 1084\n",
      "Data columns (total 5 columns):\n",
      " #   Column    Non-Null Count  Dtype   \n",
      "---  ------    --------------  -----   \n",
      " 0   Season    1085 non-null   category\n",
      " 1   Year      1085 non-null   category\n",
      " 2   Month     1085 non-null   category\n",
      " 3   Count     1085 non-null   int64   \n",
      " 4   Duration  1085 non-null   int64   \n",
      "dtypes: category(3), int64(2)\n",
      "memory usage: 61.6 KB\n"
     ]
    }
   ],
   "source": [
    "df_new.info()"
   ]
  },
  {
   "cell_type": "code",
   "execution_count": 31,
   "metadata": {
    "execution": {
     "iopub.execute_input": "2022-07-12T14:28:09.278528Z",
     "iopub.status.busy": "2022-07-12T14:28:09.278138Z",
     "iopub.status.idle": "2022-07-12T14:28:09.288087Z",
     "shell.execute_reply": "2022-07-12T14:28:09.287735Z",
     "shell.execute_reply.started": "2022-07-12T14:28:09.278507Z"
    }
   },
   "outputs": [
    {
     "name": "stdout",
     "output_type": "stream",
     "text": [
      "<class 'pandas.core.frame.DataFrame'>\n",
      "Int64Index: 1085 entries, 0 to 1084\n",
      "Data columns (total 18 columns):\n",
      " #   Column     Non-Null Count  Dtype\n",
      "---  ------     --------------  -----\n",
      " 0   Count      1085 non-null   int64\n",
      " 1   Duration   1085 non-null   int64\n",
      " 2   Season_2   1085 non-null   uint8\n",
      " 3   Season_3   1085 non-null   uint8\n",
      " 4   Season_4   1085 non-null   uint8\n",
      " 5   Year_2020  1085 non-null   uint8\n",
      " 6   Year_2021  1085 non-null   uint8\n",
      " 7   Month_2    1085 non-null   uint8\n",
      " 8   Month_3    1085 non-null   uint8\n",
      " 9   Month_4    1085 non-null   uint8\n",
      " 10  Month_5    1085 non-null   uint8\n",
      " 11  Month_6    1085 non-null   uint8\n",
      " 12  Month_7    1085 non-null   uint8\n",
      " 13  Month_8    1085 non-null   uint8\n",
      " 14  Month_9    1085 non-null   uint8\n",
      " 15  Month_10   1085 non-null   uint8\n",
      " 16  Month_11   1085 non-null   uint8\n",
      " 17  Month_12   1085 non-null   uint8\n",
      "dtypes: int64(2), uint8(16)\n",
      "memory usage: 74.7 KB\n"
     ]
    }
   ],
   "source": [
    "df_new = pd.get_dummies(df_new, drop_first=True)\n",
    "df_new.info()"
   ]
  },
  {
   "cell_type": "markdown",
   "metadata": {},
   "source": [
    "Below, we will try and find which variables help us predict an increase in the 'Count' of bikes. \n",
    "\n",
    "First, we split the data we've seen so far into training and test data [70/30] using train_test_split method from sklearn package for this.\n"
   ]
  },
  {
   "cell_type": "code",
   "execution_count": 32,
   "metadata": {
    "execution": {
     "iopub.execute_input": "2022-07-12T14:28:09.289063Z",
     "iopub.status.busy": "2022-07-12T14:28:09.288678Z",
     "iopub.status.idle": "2022-07-12T14:28:09.292180Z",
     "shell.execute_reply": "2022-07-12T14:28:09.291738Z",
     "shell.execute_reply.started": "2022-07-12T14:28:09.289042Z"
    }
   },
   "outputs": [
    {
     "data": {
      "text/plain": [
       "(1085, 18)"
      ]
     },
     "execution_count": 32,
     "metadata": {},
     "output_type": "execute_result"
    }
   ],
   "source": [
    "df_new.shape"
   ]
  },
  {
   "cell_type": "code",
   "execution_count": 33,
   "metadata": {
    "execution": {
     "iopub.execute_input": "2022-07-12T14:28:09.293219Z",
     "iopub.status.busy": "2022-07-12T14:28:09.292918Z",
     "iopub.status.idle": "2022-07-12T14:28:09.300083Z",
     "shell.execute_reply": "2022-07-12T14:28:09.299736Z",
     "shell.execute_reply.started": "2022-07-12T14:28:09.293200Z"
    }
   },
   "outputs": [
    {
     "name": "stdout",
     "output_type": "stream",
     "text": [
      "<class 'pandas.core.frame.DataFrame'>\n",
      "Int64Index: 1085 entries, 0 to 1084\n",
      "Data columns (total 18 columns):\n",
      " #   Column     Non-Null Count  Dtype\n",
      "---  ------     --------------  -----\n",
      " 0   Count      1085 non-null   int64\n",
      " 1   Duration   1085 non-null   int64\n",
      " 2   Season_2   1085 non-null   uint8\n",
      " 3   Season_3   1085 non-null   uint8\n",
      " 4   Season_4   1085 non-null   uint8\n",
      " 5   Year_2020  1085 non-null   uint8\n",
      " 6   Year_2021  1085 non-null   uint8\n",
      " 7   Month_2    1085 non-null   uint8\n",
      " 8   Month_3    1085 non-null   uint8\n",
      " 9   Month_4    1085 non-null   uint8\n",
      " 10  Month_5    1085 non-null   uint8\n",
      " 11  Month_6    1085 non-null   uint8\n",
      " 12  Month_7    1085 non-null   uint8\n",
      " 13  Month_8    1085 non-null   uint8\n",
      " 14  Month_9    1085 non-null   uint8\n",
      " 15  Month_10   1085 non-null   uint8\n",
      " 16  Month_11   1085 non-null   uint8\n",
      " 17  Month_12   1085 non-null   uint8\n",
      "dtypes: int64(2), uint8(16)\n",
      "memory usage: 74.7 KB\n"
     ]
    }
   ],
   "source": [
    "df_new.info()"
   ]
  },
  {
   "cell_type": "code",
   "execution_count": 34,
   "metadata": {
    "execution": {
     "iopub.execute_input": "2022-07-12T14:28:09.301235Z",
     "iopub.status.busy": "2022-07-12T14:28:09.300835Z",
     "iopub.status.idle": "2022-07-12T14:28:09.479770Z",
     "shell.execute_reply": "2022-07-12T14:28:09.479113Z",
     "shell.execute_reply.started": "2022-07-12T14:28:09.301215Z"
    }
   },
   "outputs": [],
   "source": [
    "from sklearn.model_selection import train_test_split\n",
    "\n",
    "# We should specify 'random_state' so that the train and test data set always have the same rows, respectively\n",
    "\n",
    "np.random.seed(0)\n",
    "df_train, df_test = train_test_split(df_new, train_size = 0.70, test_size = 0.30, random_state = 333)"
   ]
  },
  {
   "cell_type": "code",
   "execution_count": 35,
   "metadata": {
    "execution": {
     "iopub.execute_input": "2022-07-12T14:28:09.480901Z",
     "iopub.status.busy": "2022-07-12T14:28:09.480500Z",
     "iopub.status.idle": "2022-07-12T14:28:09.489263Z",
     "shell.execute_reply": "2022-07-12T14:28:09.488893Z",
     "shell.execute_reply.started": "2022-07-12T14:28:09.480877Z"
    }
   },
   "outputs": [
    {
     "name": "stdout",
     "output_type": "stream",
     "text": [
      "<class 'pandas.core.frame.DataFrame'>\n",
      "Int64Index: 759 entries, 405 to 973\n",
      "Data columns (total 18 columns):\n",
      " #   Column     Non-Null Count  Dtype\n",
      "---  ------     --------------  -----\n",
      " 0   Count      759 non-null    int64\n",
      " 1   Duration   759 non-null    int64\n",
      " 2   Season_2   759 non-null    uint8\n",
      " 3   Season_3   759 non-null    uint8\n",
      " 4   Season_4   759 non-null    uint8\n",
      " 5   Year_2020  759 non-null    uint8\n",
      " 6   Year_2021  759 non-null    uint8\n",
      " 7   Month_2    759 non-null    uint8\n",
      " 8   Month_3    759 non-null    uint8\n",
      " 9   Month_4    759 non-null    uint8\n",
      " 10  Month_5    759 non-null    uint8\n",
      " 11  Month_6    759 non-null    uint8\n",
      " 12  Month_7    759 non-null    uint8\n",
      " 13  Month_8    759 non-null    uint8\n",
      " 14  Month_9    759 non-null    uint8\n",
      " 15  Month_10   759 non-null    uint8\n",
      " 16  Month_11   759 non-null    uint8\n",
      " 17  Month_12   759 non-null    uint8\n",
      "dtypes: int64(2), uint8(16)\n",
      "memory usage: 29.6 KB\n"
     ]
    }
   ],
   "source": [
    "df_train.info()"
   ]
  },
  {
   "cell_type": "code",
   "execution_count": 36,
   "metadata": {
    "execution": {
     "iopub.execute_input": "2022-07-12T14:28:09.490403Z",
     "iopub.status.busy": "2022-07-12T14:28:09.489878Z",
     "iopub.status.idle": "2022-07-12T14:28:09.493594Z",
     "shell.execute_reply": "2022-07-12T14:28:09.493239Z",
     "shell.execute_reply.started": "2022-07-12T14:28:09.490381Z"
    }
   },
   "outputs": [
    {
     "data": {
      "text/plain": [
       "(759, 18)"
      ]
     },
     "execution_count": 36,
     "metadata": {},
     "output_type": "execute_result"
    }
   ],
   "source": [
    "df_train.shape"
   ]
  },
  {
   "cell_type": "code",
   "execution_count": 37,
   "metadata": {
    "execution": {
     "iopub.execute_input": "2022-07-12T14:28:09.494709Z",
     "iopub.status.busy": "2022-07-12T14:28:09.494307Z",
     "iopub.status.idle": "2022-07-12T14:28:09.501945Z",
     "shell.execute_reply": "2022-07-12T14:28:09.501595Z",
     "shell.execute_reply.started": "2022-07-12T14:28:09.494689Z"
    }
   },
   "outputs": [
    {
     "name": "stdout",
     "output_type": "stream",
     "text": [
      "<class 'pandas.core.frame.DataFrame'>\n",
      "Int64Index: 326 entries, 5 to 301\n",
      "Data columns (total 18 columns):\n",
      " #   Column     Non-Null Count  Dtype\n",
      "---  ------     --------------  -----\n",
      " 0   Count      326 non-null    int64\n",
      " 1   Duration   326 non-null    int64\n",
      " 2   Season_2   326 non-null    uint8\n",
      " 3   Season_3   326 non-null    uint8\n",
      " 4   Season_4   326 non-null    uint8\n",
      " 5   Year_2020  326 non-null    uint8\n",
      " 6   Year_2021  326 non-null    uint8\n",
      " 7   Month_2    326 non-null    uint8\n",
      " 8   Month_3    326 non-null    uint8\n",
      " 9   Month_4    326 non-null    uint8\n",
      " 10  Month_5    326 non-null    uint8\n",
      " 11  Month_6    326 non-null    uint8\n",
      " 12  Month_7    326 non-null    uint8\n",
      " 13  Month_8    326 non-null    uint8\n",
      " 14  Month_9    326 non-null    uint8\n",
      " 15  Month_10   326 non-null    uint8\n",
      " 16  Month_11   326 non-null    uint8\n",
      " 17  Month_12   326 non-null    uint8\n",
      "dtypes: int64(2), uint8(16)\n",
      "memory usage: 12.7 KB\n"
     ]
    }
   ],
   "source": [
    "df_test.info()"
   ]
  },
  {
   "cell_type": "code",
   "execution_count": 38,
   "metadata": {
    "execution": {
     "iopub.execute_input": "2022-07-12T14:28:09.502743Z",
     "iopub.status.busy": "2022-07-12T14:28:09.502496Z",
     "iopub.status.idle": "2022-07-12T14:28:09.506138Z",
     "shell.execute_reply": "2022-07-12T14:28:09.505791Z",
     "shell.execute_reply.started": "2022-07-12T14:28:09.502724Z"
    }
   },
   "outputs": [
    {
     "data": {
      "text/plain": [
       "(326, 18)"
      ]
     },
     "execution_count": 38,
     "metadata": {},
     "output_type": "execute_result"
    }
   ],
   "source": [
    "df_test.shape"
   ]
  },
  {
   "cell_type": "code",
   "execution_count": 39,
   "metadata": {
    "execution": {
     "iopub.execute_input": "2022-07-12T14:28:09.507201Z",
     "iopub.status.busy": "2022-07-12T14:28:09.506685Z",
     "iopub.status.idle": "2022-07-12T14:28:09.510503Z",
     "shell.execute_reply": "2022-07-12T14:28:09.510149Z",
     "shell.execute_reply.started": "2022-07-12T14:28:09.507181Z"
    }
   },
   "outputs": [
    {
     "data": {
      "text/plain": [
       "Index(['Count', 'Duration', 'Season_2', 'Season_3', 'Season_4', 'Year_2020',\n",
       "       'Year_2021', 'Month_2', 'Month_3', 'Month_4', 'Month_5', 'Month_6',\n",
       "       'Month_7', 'Month_8', 'Month_9', 'Month_10', 'Month_11', 'Month_12'],\n",
       "      dtype='object')"
      ]
     },
     "execution_count": 39,
     "metadata": {},
     "output_type": "execute_result"
    }
   ],
   "source": [
    "df_train.columns"
   ]
  },
  {
   "cell_type": "markdown",
   "metadata": {},
   "source": [
    "Let's see which variables are correlated"
   ]
  },
  {
   "cell_type": "code",
   "execution_count": 40,
   "metadata": {
    "execution": {
     "iopub.execute_input": "2022-07-12T14:28:09.511532Z",
     "iopub.status.busy": "2022-07-12T14:28:09.511041Z",
     "iopub.status.idle": "2022-07-12T14:28:10.694936Z",
     "shell.execute_reply": "2022-07-12T14:28:10.694312Z",
     "shell.execute_reply.started": "2022-07-12T14:28:09.511512Z"
    }
   },
   "outputs": [
    {
     "data": {
      "image/png": "[encoded data removed]",
      "text/plain": [
       "<Figure size 1440x1080 with 2 Axes>"
      ]
     },
     "metadata": {},
     "output_type": "display_data"
    }
   ],
   "source": [
    "plt.figure(figsize = (20,15))\n",
    "sns.heatmap(df_new.corr(), annot = True, cmap=\"RdBu\")\n",
    "plt.show()"
   ]
  },
  {
   "cell_type": "markdown",
   "metadata": {},
   "source": [
    "Insights\n",
    "\n",
    "The heatmap shows some multicollinearity of the variables with the target variable.\n",
    "\n",
    "We will refer this map back-and-forth while building the linear model so as to validate different correlated values along with VIF & p-value, for identifying the correct variable to select/eliminate from the model."
   ]
  },
  {
   "cell_type": "markdown",
   "metadata": {},
   "source": [
    "Let's rescale features"
   ]
  },
  {
   "cell_type": "code",
   "execution_count": 41,
   "metadata": {
    "execution": {
     "iopub.execute_input": "2022-07-12T14:28:10.696028Z",
     "iopub.status.busy": "2022-07-12T14:28:10.695863Z",
     "iopub.status.idle": "2022-07-12T14:28:10.720257Z",
     "shell.execute_reply": "2022-07-12T14:28:10.719624Z",
     "shell.execute_reply.started": "2022-07-12T14:28:10.696008Z"
    }
   },
   "outputs": [
    {
     "data": {
      "text/html": [
       "<div>\n",
       "<style scoped>\n",
       "    .dataframe tbody tr th:only-of-type {\n",
       "        vertical-align: middle;\n",
       "    }\n",
       "\n",
       "    .dataframe tbody tr th {\n",
       "        vertical-align: top;\n",
       "    }\n",
       "\n",
       "    .dataframe thead th {\n",
       "        text-align: right;\n",
       "    }\n",
       "</style>\n",
       "<table border=\"1\" class=\"dataframe\">\n",
       "  <thead>\n",
       "    <tr style=\"text-align: right;\">\n",
       "      <th></th>\n",
       "      <th>Count</th>\n",
       "      <th>Duration</th>\n",
       "      <th>Season_2</th>\n",
       "      <th>Season_3</th>\n",
       "      <th>Season_4</th>\n",
       "      <th>Year_2020</th>\n",
       "      <th>Year_2021</th>\n",
       "      <th>Month_2</th>\n",
       "      <th>Month_3</th>\n",
       "      <th>Month_4</th>\n",
       "      <th>Month_5</th>\n",
       "      <th>Month_6</th>\n",
       "      <th>Month_7</th>\n",
       "      <th>Month_8</th>\n",
       "      <th>Month_9</th>\n",
       "      <th>Month_10</th>\n",
       "      <th>Month_11</th>\n",
       "      <th>Month_12</th>\n",
       "    </tr>\n",
       "  </thead>\n",
       "  <tbody>\n",
       "    <tr>\n",
       "      <th>405</th>\n",
       "      <td>0.354446</td>\n",
       "      <td>0.378847</td>\n",
       "      <td>1.0</td>\n",
       "      <td>0.0</td>\n",
       "      <td>0.0</td>\n",
       "      <td>1.0</td>\n",
       "      <td>0.0</td>\n",
       "      <td>0.0</td>\n",
       "      <td>0.0</td>\n",
       "      <td>1.0</td>\n",
       "      <td>0.0</td>\n",
       "      <td>0.0</td>\n",
       "      <td>0.0</td>\n",
       "      <td>0.0</td>\n",
       "      <td>0.0</td>\n",
       "      <td>0.0</td>\n",
       "      <td>0.0</td>\n",
       "      <td>0.0</td>\n",
       "    </tr>\n",
       "    <tr>\n",
       "      <th>887</th>\n",
       "      <td>0.493347</td>\n",
       "      <td>0.320615</td>\n",
       "      <td>0.0</td>\n",
       "      <td>0.0</td>\n",
       "      <td>1.0</td>\n",
       "      <td>0.0</td>\n",
       "      <td>0.0</td>\n",
       "      <td>0.0</td>\n",
       "      <td>0.0</td>\n",
       "      <td>0.0</td>\n",
       "      <td>0.0</td>\n",
       "      <td>0.0</td>\n",
       "      <td>0.0</td>\n",
       "      <td>0.0</td>\n",
       "      <td>0.0</td>\n",
       "      <td>1.0</td>\n",
       "      <td>0.0</td>\n",
       "      <td>0.0</td>\n",
       "    </tr>\n",
       "    <tr>\n",
       "      <th>140</th>\n",
       "      <td>0.513200</td>\n",
       "      <td>0.326245</td>\n",
       "      <td>0.0</td>\n",
       "      <td>0.0</td>\n",
       "      <td>0.0</td>\n",
       "      <td>0.0</td>\n",
       "      <td>0.0</td>\n",
       "      <td>0.0</td>\n",
       "      <td>0.0</td>\n",
       "      <td>0.0</td>\n",
       "      <td>0.0</td>\n",
       "      <td>0.0</td>\n",
       "      <td>0.0</td>\n",
       "      <td>0.0</td>\n",
       "      <td>0.0</td>\n",
       "      <td>0.0</td>\n",
       "      <td>0.0</td>\n",
       "      <td>1.0</td>\n",
       "    </tr>\n",
       "    <tr>\n",
       "      <th>125</th>\n",
       "      <td>0.785576</td>\n",
       "      <td>0.586565</td>\n",
       "      <td>0.0</td>\n",
       "      <td>1.0</td>\n",
       "      <td>0.0</td>\n",
       "      <td>0.0</td>\n",
       "      <td>0.0</td>\n",
       "      <td>0.0</td>\n",
       "      <td>0.0</td>\n",
       "      <td>0.0</td>\n",
       "      <td>0.0</td>\n",
       "      <td>0.0</td>\n",
       "      <td>1.0</td>\n",
       "      <td>0.0</td>\n",
       "      <td>0.0</td>\n",
       "      <td>0.0</td>\n",
       "      <td>0.0</td>\n",
       "      <td>0.0</td>\n",
       "    </tr>\n",
       "    <tr>\n",
       "      <th>352</th>\n",
       "      <td>0.612862</td>\n",
       "      <td>0.487741</td>\n",
       "      <td>0.0</td>\n",
       "      <td>0.0</td>\n",
       "      <td>1.0</td>\n",
       "      <td>0.0</td>\n",
       "      <td>1.0</td>\n",
       "      <td>0.0</td>\n",
       "      <td>0.0</td>\n",
       "      <td>0.0</td>\n",
       "      <td>0.0</td>\n",
       "      <td>0.0</td>\n",
       "      <td>0.0</td>\n",
       "      <td>0.0</td>\n",
       "      <td>0.0</td>\n",
       "      <td>1.0</td>\n",
       "      <td>0.0</td>\n",
       "      <td>0.0</td>\n",
       "    </tr>\n",
       "  </tbody>\n",
       "</table>\n",
       "</div>"
      ],
      "text/plain": [
       "        Count  Duration  Season_2  Season_3  Season_4  Year_2020  Year_2021  \\\n",
       "405  0.354446  0.378847       1.0       0.0       0.0        1.0        0.0   \n",
       "887  0.493347  0.320615       0.0       0.0       1.0        0.0        0.0   \n",
       "140  0.513200  0.326245       0.0       0.0       0.0        0.0        0.0   \n",
       "125  0.785576  0.586565       0.0       1.0       0.0        0.0        0.0   \n",
       "352  0.612862  0.487741       0.0       0.0       1.0        0.0        1.0   \n",
       "\n",
       "     Month_2  Month_3  Month_4  Month_5  Month_6  Month_7  Month_8  Month_9  \\\n",
       "405      0.0      0.0      1.0      0.0      0.0      0.0      0.0      0.0   \n",
       "887      0.0      0.0      0.0      0.0      0.0      0.0      0.0      0.0   \n",
       "140      0.0      0.0      0.0      0.0      0.0      0.0      0.0      0.0   \n",
       "125      0.0      0.0      0.0      0.0      0.0      1.0      0.0      0.0   \n",
       "352      0.0      0.0      0.0      0.0      0.0      0.0      0.0      0.0   \n",
       "\n",
       "     Month_10  Month_11  Month_12  \n",
       "405       0.0       0.0       0.0  \n",
       "887       1.0       0.0       0.0  \n",
       "140       0.0       0.0       1.0  \n",
       "125       0.0       0.0       0.0  \n",
       "352       1.0       0.0       0.0  "
      ]
     },
     "execution_count": 41,
     "metadata": {},
     "output_type": "execute_result"
    }
   ],
   "source": [
    "from sklearn.preprocessing import MinMaxScaler\n",
    "\n",
    "scaler = MinMaxScaler()\n",
    "num_vars = df_train.columns.values\n",
    "\n",
    "df_train[num_vars] = scaler.fit_transform(df_train[num_vars])\n",
    "df_train.head()"
   ]
  },
  {
   "cell_type": "code",
   "execution_count": 42,
   "metadata": {
    "execution": {
     "iopub.execute_input": "2022-07-12T14:28:10.721270Z",
     "iopub.status.busy": "2022-07-12T14:28:10.721101Z",
     "iopub.status.idle": "2022-07-12T14:28:10.738251Z",
     "shell.execute_reply": "2022-07-12T14:28:10.737794Z",
     "shell.execute_reply.started": "2022-07-12T14:28:10.721251Z"
    }
   },
   "outputs": [
    {
     "data": {
      "text/html": [
       "<div>\n",
       "<style scoped>\n",
       "    .dataframe tbody tr th:only-of-type {\n",
       "        vertical-align: middle;\n",
       "    }\n",
       "\n",
       "    .dataframe tbody tr th {\n",
       "        vertical-align: top;\n",
       "    }\n",
       "\n",
       "    .dataframe thead th {\n",
       "        text-align: right;\n",
       "    }\n",
       "</style>\n",
       "<table border=\"1\" class=\"dataframe\">\n",
       "  <thead>\n",
       "    <tr style=\"text-align: right;\">\n",
       "      <th></th>\n",
       "      <th>Count</th>\n",
       "      <th>Duration</th>\n",
       "      <th>Season_2</th>\n",
       "      <th>Season_3</th>\n",
       "      <th>Season_4</th>\n",
       "      <th>Year_2020</th>\n",
       "      <th>Year_2021</th>\n",
       "      <th>Month_2</th>\n",
       "      <th>Month_3</th>\n",
       "      <th>Month_4</th>\n",
       "      <th>Month_5</th>\n",
       "      <th>Month_6</th>\n",
       "      <th>Month_7</th>\n",
       "      <th>Month_8</th>\n",
       "      <th>Month_9</th>\n",
       "      <th>Month_10</th>\n",
       "      <th>Month_11</th>\n",
       "      <th>Month_12</th>\n",
       "    </tr>\n",
       "  </thead>\n",
       "  <tbody>\n",
       "    <tr>\n",
       "      <th>405</th>\n",
       "      <td>0.354446</td>\n",
       "      <td>0.378847</td>\n",
       "      <td>1.0</td>\n",
       "      <td>0.0</td>\n",
       "      <td>0.0</td>\n",
       "      <td>1.0</td>\n",
       "      <td>0.0</td>\n",
       "      <td>0.0</td>\n",
       "      <td>0.0</td>\n",
       "      <td>1.0</td>\n",
       "      <td>0.0</td>\n",
       "      <td>0.0</td>\n",
       "      <td>0.0</td>\n",
       "      <td>0.0</td>\n",
       "      <td>0.0</td>\n",
       "      <td>0.0</td>\n",
       "      <td>0.0</td>\n",
       "      <td>0.0</td>\n",
       "    </tr>\n",
       "    <tr>\n",
       "      <th>887</th>\n",
       "      <td>0.493347</td>\n",
       "      <td>0.320615</td>\n",
       "      <td>0.0</td>\n",
       "      <td>0.0</td>\n",
       "      <td>1.0</td>\n",
       "      <td>0.0</td>\n",
       "      <td>0.0</td>\n",
       "      <td>0.0</td>\n",
       "      <td>0.0</td>\n",
       "      <td>0.0</td>\n",
       "      <td>0.0</td>\n",
       "      <td>0.0</td>\n",
       "      <td>0.0</td>\n",
       "      <td>0.0</td>\n",
       "      <td>0.0</td>\n",
       "      <td>1.0</td>\n",
       "      <td>0.0</td>\n",
       "      <td>0.0</td>\n",
       "    </tr>\n",
       "    <tr>\n",
       "      <th>140</th>\n",
       "      <td>0.513200</td>\n",
       "      <td>0.326245</td>\n",
       "      <td>0.0</td>\n",
       "      <td>0.0</td>\n",
       "      <td>0.0</td>\n",
       "      <td>0.0</td>\n",
       "      <td>0.0</td>\n",
       "      <td>0.0</td>\n",
       "      <td>0.0</td>\n",
       "      <td>0.0</td>\n",
       "      <td>0.0</td>\n",
       "      <td>0.0</td>\n",
       "      <td>0.0</td>\n",
       "      <td>0.0</td>\n",
       "      <td>0.0</td>\n",
       "      <td>0.0</td>\n",
       "      <td>0.0</td>\n",
       "      <td>1.0</td>\n",
       "    </tr>\n",
       "    <tr>\n",
       "      <th>125</th>\n",
       "      <td>0.785576</td>\n",
       "      <td>0.586565</td>\n",
       "      <td>0.0</td>\n",
       "      <td>1.0</td>\n",
       "      <td>0.0</td>\n",
       "      <td>0.0</td>\n",
       "      <td>0.0</td>\n",
       "      <td>0.0</td>\n",
       "      <td>0.0</td>\n",
       "      <td>0.0</td>\n",
       "      <td>0.0</td>\n",
       "      <td>0.0</td>\n",
       "      <td>1.0</td>\n",
       "      <td>0.0</td>\n",
       "      <td>0.0</td>\n",
       "      <td>0.0</td>\n",
       "      <td>0.0</td>\n",
       "      <td>0.0</td>\n",
       "    </tr>\n",
       "    <tr>\n",
       "      <th>352</th>\n",
       "      <td>0.612862</td>\n",
       "      <td>0.487741</td>\n",
       "      <td>0.0</td>\n",
       "      <td>0.0</td>\n",
       "      <td>1.0</td>\n",
       "      <td>0.0</td>\n",
       "      <td>1.0</td>\n",
       "      <td>0.0</td>\n",
       "      <td>0.0</td>\n",
       "      <td>0.0</td>\n",
       "      <td>0.0</td>\n",
       "      <td>0.0</td>\n",
       "      <td>0.0</td>\n",
       "      <td>0.0</td>\n",
       "      <td>0.0</td>\n",
       "      <td>1.0</td>\n",
       "      <td>0.0</td>\n",
       "      <td>0.0</td>\n",
       "    </tr>\n",
       "  </tbody>\n",
       "</table>\n",
       "</div>"
      ],
      "text/plain": [
       "        Count  Duration  Season_2  Season_3  Season_4  Year_2020  Year_2021  \\\n",
       "405  0.354446  0.378847       1.0       0.0       0.0        1.0        0.0   \n",
       "887  0.493347  0.320615       0.0       0.0       1.0        0.0        0.0   \n",
       "140  0.513200  0.326245       0.0       0.0       0.0        0.0        0.0   \n",
       "125  0.785576  0.586565       0.0       1.0       0.0        0.0        0.0   \n",
       "352  0.612862  0.487741       0.0       0.0       1.0        0.0        1.0   \n",
       "\n",
       "     Month_2  Month_3  Month_4  Month_5  Month_6  Month_7  Month_8  Month_9  \\\n",
       "405      0.0      0.0      1.0      0.0      0.0      0.0      0.0      0.0   \n",
       "887      0.0      0.0      0.0      0.0      0.0      0.0      0.0      0.0   \n",
       "140      0.0      0.0      0.0      0.0      0.0      0.0      0.0      0.0   \n",
       "125      0.0      0.0      0.0      0.0      0.0      1.0      0.0      0.0   \n",
       "352      0.0      0.0      0.0      0.0      0.0      0.0      0.0      0.0   \n",
       "\n",
       "     Month_10  Month_11  Month_12  \n",
       "405       0.0       0.0       0.0  \n",
       "887       1.0       0.0       0.0  \n",
       "140       0.0       0.0       1.0  \n",
       "125       0.0       0.0       0.0  \n",
       "352       1.0       0.0       0.0  "
      ]
     },
     "execution_count": 42,
     "metadata": {},
     "output_type": "execute_result"
    }
   ],
   "source": [
    "df_train.head()"
   ]
  },
  {
   "cell_type": "markdown",
   "metadata": {},
   "source": [
    "Get ready for X, Y for linear model"
   ]
  },
  {
   "cell_type": "code",
   "execution_count": 43,
   "metadata": {
    "execution": {
     "iopub.execute_input": "2022-07-12T14:28:10.739182Z",
     "iopub.status.busy": "2022-07-12T14:28:10.739030Z",
     "iopub.status.idle": "2022-07-12T14:28:10.742449Z",
     "shell.execute_reply": "2022-07-12T14:28:10.741989Z",
     "shell.execute_reply.started": "2022-07-12T14:28:10.739164Z"
    }
   },
   "outputs": [],
   "source": [
    "y_train = df_train.pop('Duration')\n",
    "X_train = df_train"
   ]
  },
  {
   "cell_type": "markdown",
   "metadata": {},
   "source": [
    "RFE\n",
    "Recursive feature elimination: We will be using the LinearRegression function from SciKit Learn for its compatibility with RFE (which is a utility from sklearn)\n"
   ]
  },
  {
   "cell_type": "code",
   "execution_count": 44,
   "metadata": {
    "execution": {
     "iopub.execute_input": "2022-07-12T14:28:10.743360Z",
     "iopub.status.busy": "2022-07-12T14:28:10.743202Z",
     "iopub.status.idle": "2022-07-12T14:28:10.857900Z",
     "shell.execute_reply": "2022-07-12T14:28:10.857298Z",
     "shell.execute_reply.started": "2022-07-12T14:28:10.743343Z"
    }
   },
   "outputs": [],
   "source": [
    "from sklearn.feature_selection import RFE\n",
    "from sklearn.linear_model import LinearRegression"
   ]
  },
  {
   "cell_type": "code",
   "execution_count": 45,
   "metadata": {
    "execution": {
     "iopub.execute_input": "2022-07-12T14:28:10.858928Z",
     "iopub.status.busy": "2022-07-12T14:28:10.858759Z",
     "iopub.status.idle": "2022-07-12T14:28:10.880968Z",
     "shell.execute_reply": "2022-07-12T14:28:10.880574Z",
     "shell.execute_reply.started": "2022-07-12T14:28:10.858909Z"
    }
   },
   "outputs": [],
   "source": [
    "lm = LinearRegression()\n",
    "lm.fit(X_train, y_train)\n",
    "\n",
    "rfe = RFE(lm)             # running RFE\n",
    "rfe = rfe.fit(X_train, y_train)"
   ]
  },
  {
   "cell_type": "code",
   "execution_count": 46,
   "metadata": {
    "execution": {
     "iopub.execute_input": "2022-07-12T14:28:10.882054Z",
     "iopub.status.busy": "2022-07-12T14:28:10.881638Z",
     "iopub.status.idle": "2022-07-12T14:28:10.885590Z",
     "shell.execute_reply": "2022-07-12T14:28:10.885233Z",
     "shell.execute_reply.started": "2022-07-12T14:28:10.882030Z"
    }
   },
   "outputs": [
    {
     "data": {
      "text/plain": [
       "Index(['Season_2', 'Season_4', 'Month_2', 'Month_3', 'Month_7', 'Month_8',\n",
       "       'Month_10', 'Month_11', 'Month_12'],\n",
       "      dtype='object')"
      ]
     },
     "execution_count": 46,
     "metadata": {},
     "output_type": "execute_result"
    }
   ],
   "source": [
    "X_train.columns[~rfe.support_]"
   ]
  },
  {
   "cell_type": "code",
   "execution_count": 47,
   "metadata": {
    "execution": {
     "iopub.execute_input": "2022-07-12T14:28:10.886781Z",
     "iopub.status.busy": "2022-07-12T14:28:10.886297Z",
     "iopub.status.idle": "2022-07-12T14:28:10.889599Z",
     "shell.execute_reply": "2022-07-12T14:28:10.889247Z",
     "shell.execute_reply.started": "2022-07-12T14:28:10.886758Z"
    }
   },
   "outputs": [],
   "source": [
    "# Creating X_test dataframe with RFE selected variables\n",
    "col = X_train.columns[rfe.support_]\n",
    "X_train_rfe = X_train[col]"
   ]
  },
  {
   "cell_type": "code",
   "execution_count": 48,
   "metadata": {
    "execution": {
     "iopub.execute_input": "2022-07-12T14:28:10.890726Z",
     "iopub.status.busy": "2022-07-12T14:28:10.890170Z",
     "iopub.status.idle": "2022-07-12T14:28:10.967305Z",
     "shell.execute_reply": "2022-07-12T14:28:10.966825Z",
     "shell.execute_reply.started": "2022-07-12T14:28:10.890706Z"
    }
   },
   "outputs": [
    {
     "data": {
      "text/html": [
       "<div>\n",
       "<style scoped>\n",
       "    .dataframe tbody tr th:only-of-type {\n",
       "        vertical-align: middle;\n",
       "    }\n",
       "\n",
       "    .dataframe tbody tr th {\n",
       "        vertical-align: top;\n",
       "    }\n",
       "\n",
       "    .dataframe thead th {\n",
       "        text-align: right;\n",
       "    }\n",
       "</style>\n",
       "<table border=\"1\" class=\"dataframe\">\n",
       "  <thead>\n",
       "    <tr style=\"text-align: right;\">\n",
       "      <th></th>\n",
       "      <th>Features</th>\n",
       "      <th>VIF</th>\n",
       "    </tr>\n",
       "  </thead>\n",
       "  <tbody>\n",
       "    <tr>\n",
       "      <th>0</th>\n",
       "      <td>Count</td>\n",
       "      <td>4.17</td>\n",
       "    </tr>\n",
       "    <tr>\n",
       "      <th>1</th>\n",
       "      <td>Season_3</td>\n",
       "      <td>2.55</td>\n",
       "    </tr>\n",
       "    <tr>\n",
       "      <th>3</th>\n",
       "      <td>Year_2021</td>\n",
       "      <td>1.70</td>\n",
       "    </tr>\n",
       "    <tr>\n",
       "      <th>2</th>\n",
       "      <td>Year_2020</td>\n",
       "      <td>1.57</td>\n",
       "    </tr>\n",
       "    <tr>\n",
       "      <th>6</th>\n",
       "      <td>Month_6</td>\n",
       "      <td>1.49</td>\n",
       "    </tr>\n",
       "    <tr>\n",
       "      <th>7</th>\n",
       "      <td>Month_9</td>\n",
       "      <td>1.30</td>\n",
       "    </tr>\n",
       "    <tr>\n",
       "      <th>5</th>\n",
       "      <td>Month_5</td>\n",
       "      <td>1.22</td>\n",
       "    </tr>\n",
       "    <tr>\n",
       "      <th>4</th>\n",
       "      <td>Month_4</td>\n",
       "      <td>1.14</td>\n",
       "    </tr>\n",
       "  </tbody>\n",
       "</table>\n",
       "</div>"
      ],
      "text/plain": [
       "    Features   VIF\n",
       "0      Count  4.17\n",
       "1   Season_3  2.55\n",
       "3  Year_2021  1.70\n",
       "2  Year_2020  1.57\n",
       "6    Month_6  1.49\n",
       "7    Month_9  1.30\n",
       "5    Month_5  1.22\n",
       "4    Month_4  1.14"
      ]
     },
     "execution_count": 48,
     "metadata": {},
     "output_type": "execute_result"
    }
   ],
   "source": [
    "# Check for the VIF values of the feature variables. \n",
    "from statsmodels.stats.outliers_influence import variance_inflation_factor\n",
    "\n",
    "# Create a dataframe that will contain the names of all the feature variables and their respective VIFs\n",
    "vif = pd.DataFrame()\n",
    "vif['Features'] = X_train_rfe.columns\n",
    "vif['VIF'] = [variance_inflation_factor(X_train_rfe.values, i) for i in range(X_train_rfe.shape[1])]\n",
    "vif['VIF'] = round(vif['VIF'], 2)\n",
    "vif = vif.sort_values(by = \"VIF\", ascending = False)\n",
    "vif"
   ]
  },
  {
   "cell_type": "markdown",
   "metadata": {},
   "source": [
    "Below 5, seems good. "
   ]
  },
  {
   "cell_type": "code",
   "execution_count": 49,
   "metadata": {
    "execution": {
     "iopub.execute_input": "2022-07-12T14:28:10.968507Z",
     "iopub.status.busy": "2022-07-12T14:28:10.967994Z",
     "iopub.status.idle": "2022-07-12T14:28:11.469942Z",
     "shell.execute_reply": "2022-07-12T14:28:11.469406Z",
     "shell.execute_reply.started": "2022-07-12T14:28:10.968482Z"
    }
   },
   "outputs": [
    {
     "data": {
      "text/plain": [
       "const       -0.055958\n",
       "Count        0.780091\n",
       "Season_3     0.035897\n",
       "Year_2020    0.053379\n",
       "Year_2021    0.028031\n",
       "Month_4      0.040354\n",
       "Month_5      0.045046\n",
       "Month_6      0.017002\n",
       "Month_9      0.014871\n",
       "dtype: float64"
      ]
     },
     "execution_count": 49,
     "metadata": {},
     "output_type": "execute_result"
    }
   ],
   "source": [
    "import statsmodels.api as sm\n",
    "\n",
    "X_train = X_train_rfe\n",
    "\n",
    "# Add a constant\n",
    "X_trainlm1 = sm.add_constant(X_train)\n",
    "\n",
    "# Create a first fitted model\n",
    "lr1 = sm.OLS(y_train, X_trainlm1).fit()\n",
    "# Check the parameters obtained\n",
    "\n",
    "lr1.params"
   ]
  },
  {
   "cell_type": "code",
   "execution_count": 50,
   "metadata": {
    "execution": {
     "iopub.execute_input": "2022-07-12T14:28:11.471127Z",
     "iopub.status.busy": "2022-07-12T14:28:11.470921Z",
     "iopub.status.idle": "2022-07-12T14:28:11.484952Z",
     "shell.execute_reply": "2022-07-12T14:28:11.484388Z",
     "shell.execute_reply.started": "2022-07-12T14:28:11.471107Z"
    }
   },
   "outputs": [
    {
     "name": "stdout",
     "output_type": "stream",
     "text": [
      "                            OLS Regression Results                            \n",
      "==============================================================================\n",
      "Dep. Variable:               Duration   R-squared:                       0.928\n",
      "Model:                            OLS   Adj. R-squared:                  0.927\n",
      "Method:                 Least Squares   F-statistic:                     1207.\n",
      "Date:                Tue, 12 Jul 2022   Prob (F-statistic):               0.00\n",
      "Time:                        14:28:11   Log-Likelihood:                 1301.3\n",
      "No. Observations:                 759   AIC:                            -2585.\n",
      "Df Residuals:                     750   BIC:                            -2543.\n",
      "Df Model:                           8                                         \n",
      "Covariance Type:            nonrobust                                         \n",
      "==============================================================================\n",
      "                 coef    std err          t      P>|t|      [0.025      0.975]\n",
      "------------------------------------------------------------------------------\n",
      "const         -0.0560      0.005    -11.008      0.000      -0.066      -0.046\n",
      "Count          0.7801      0.010     74.781      0.000       0.760       0.801\n",
      "Season_3       0.0359      0.005      7.136      0.000       0.026       0.046\n",
      "Year_2020      0.0534      0.004     13.812      0.000       0.046       0.061\n",
      "Year_2021      0.0280      0.004      7.155      0.000       0.020       0.036\n",
      "Month_4        0.0404      0.006      6.715      0.000       0.029       0.052\n",
      "Month_5        0.0450      0.006      7.324      0.000       0.033       0.057\n",
      "Month_6        0.0170      0.007      2.583      0.010       0.004       0.030\n",
      "Month_9        0.0149      0.007      2.190      0.029       0.002       0.028\n",
      "==============================================================================\n",
      "Omnibus:                      155.980   Durbin-Watson:                   1.947\n",
      "Prob(Omnibus):                  0.000   Jarque-Bera (JB):              341.633\n",
      "Skew:                           1.119   Prob(JB):                     6.54e-75\n",
      "Kurtosis:                       5.406   Cond. No.                         9.41\n",
      "==============================================================================\n",
      "\n",
      "Notes:\n",
      "[1] Standard Errors assume that the covariance matrix of the errors is correctly specified.\n"
     ]
    }
   ],
   "source": [
    "print(lr1.summary())"
   ]
  },
  {
   "cell_type": "markdown",
   "metadata": {},
   "source": [
    "Removing 'Month_5' based on p-value>5% (set by the author)."
   ]
  },
  {
   "cell_type": "code",
   "execution_count": 51,
   "metadata": {
    "execution": {
     "iopub.execute_input": "2022-07-12T14:28:11.485951Z",
     "iopub.status.busy": "2022-07-12T14:28:11.485792Z",
     "iopub.status.idle": "2022-07-12T14:28:11.489953Z",
     "shell.execute_reply": "2022-07-12T14:28:11.489307Z",
     "shell.execute_reply.started": "2022-07-12T14:28:11.485932Z"
    }
   },
   "outputs": [],
   "source": [
    "X_train_new = X_train.drop([\"Month_5\"], axis = 1)"
   ]
  },
  {
   "cell_type": "code",
   "execution_count": 52,
   "metadata": {
    "execution": {
     "iopub.execute_input": "2022-07-12T14:28:11.490914Z",
     "iopub.status.busy": "2022-07-12T14:28:11.490753Z",
     "iopub.status.idle": "2022-07-12T14:28:11.498485Z",
     "shell.execute_reply": "2022-07-12T14:28:11.498030Z",
     "shell.execute_reply.started": "2022-07-12T14:28:11.490896Z"
    }
   },
   "outputs": [],
   "source": [
    "# Add a constant\n",
    "X_train_lm2 = sm.add_constant(X_train_new)\n",
    "\n",
    "# Create a first fitted model\n",
    "lr2 = sm.OLS(y_train, X_train_lm2).fit()"
   ]
  },
  {
   "cell_type": "code",
   "execution_count": 53,
   "metadata": {
    "execution": {
     "iopub.execute_input": "2022-07-12T14:28:11.499341Z",
     "iopub.status.busy": "2022-07-12T14:28:11.499190Z",
     "iopub.status.idle": "2022-07-12T14:28:11.504325Z",
     "shell.execute_reply": "2022-07-12T14:28:11.503832Z",
     "shell.execute_reply.started": "2022-07-12T14:28:11.499324Z"
    }
   },
   "outputs": [
    {
     "data": {
      "text/plain": [
       "const       -0.055751\n",
       "Count        0.796483\n",
       "Season_3     0.026043\n",
       "Year_2020    0.053491\n",
       "Year_2021    0.026695\n",
       "Month_4      0.033938\n",
       "Month_6      0.017052\n",
       "Month_9      0.004936\n",
       "dtype: float64"
      ]
     },
     "execution_count": 53,
     "metadata": {},
     "output_type": "execute_result"
    }
   ],
   "source": [
    "# Check the parameters obtained\n",
    "lr2.params"
   ]
  },
  {
   "cell_type": "code",
   "execution_count": 54,
   "metadata": {
    "execution": {
     "iopub.execute_input": "2022-07-12T14:28:11.505279Z",
     "iopub.status.busy": "2022-07-12T14:28:11.505091Z",
     "iopub.status.idle": "2022-07-12T14:28:11.517752Z",
     "shell.execute_reply": "2022-07-12T14:28:11.517208Z",
     "shell.execute_reply.started": "2022-07-12T14:28:11.505260Z"
    }
   },
   "outputs": [
    {
     "name": "stdout",
     "output_type": "stream",
     "text": [
      "                            OLS Regression Results                            \n",
      "==============================================================================\n",
      "Dep. Variable:               Duration   R-squared:                       0.923\n",
      "Model:                            OLS   Adj. R-squared:                  0.922\n",
      "Method:                 Least Squares   F-statistic:                     1282.\n",
      "Date:                Tue, 12 Jul 2022   Prob (F-statistic):               0.00\n",
      "Time:                        14:28:11   Log-Likelihood:                 1275.1\n",
      "No. Observations:                 759   AIC:                            -2534.\n",
      "Df Residuals:                     751   BIC:                            -2497.\n",
      "Df Model:                           7                                         \n",
      "Covariance Type:            nonrobust                                         \n",
      "==============================================================================\n",
      "                 coef    std err          t      P>|t|      [0.025      0.975]\n",
      "------------------------------------------------------------------------------\n",
      "const         -0.0558      0.005    -10.602      0.000      -0.066      -0.045\n",
      "Count          0.7965      0.011     75.570      0.000       0.776       0.817\n",
      "Season_3       0.0260      0.005      5.194      0.000       0.016       0.036\n",
      "Year_2020      0.0535      0.004     13.380      0.000       0.046       0.061\n",
      "Year_2021      0.0267      0.004      6.594      0.000       0.019       0.035\n",
      "Month_4        0.0339      0.006      5.518      0.000       0.022       0.046\n",
      "Month_6        0.0171      0.007      2.504      0.012       0.004       0.030\n",
      "Month_9        0.0049      0.007      0.717      0.474      -0.009       0.018\n",
      "==============================================================================\n",
      "Omnibus:                      157.376   Durbin-Watson:                   1.987\n",
      "Prob(Omnibus):                  0.000   Jarque-Bera (JB):              355.136\n",
      "Skew:                           1.116   Prob(JB):                     7.64e-78\n",
      "Kurtosis:                       5.500   Cond. No.                         9.08\n",
      "==============================================================================\n",
      "\n",
      "Notes:\n",
      "[1] Standard Errors assume that the covariance matrix of the errors is correctly specified.\n"
     ]
    }
   ],
   "source": [
    "# Print a summary of the linear regression model obtained\n",
    "print(lr2.summary())"
   ]
  },
  {
   "cell_type": "code",
   "execution_count": 55,
   "metadata": {
    "execution": {
     "iopub.execute_input": "2022-07-12T14:28:11.518615Z",
     "iopub.status.busy": "2022-07-12T14:28:11.518448Z",
     "iopub.status.idle": "2022-07-12T14:28:11.534000Z",
     "shell.execute_reply": "2022-07-12T14:28:11.533421Z",
     "shell.execute_reply.started": "2022-07-12T14:28:11.518596Z"
    }
   },
   "outputs": [
    {
     "data": {
      "text/html": [
       "<div>\n",
       "<style scoped>\n",
       "    .dataframe tbody tr th:only-of-type {\n",
       "        vertical-align: middle;\n",
       "    }\n",
       "\n",
       "    .dataframe tbody tr th {\n",
       "        vertical-align: top;\n",
       "    }\n",
       "\n",
       "    .dataframe thead th {\n",
       "        text-align: right;\n",
       "    }\n",
       "</style>\n",
       "<table border=\"1\" class=\"dataframe\">\n",
       "  <thead>\n",
       "    <tr style=\"text-align: right;\">\n",
       "      <th></th>\n",
       "      <th>Features</th>\n",
       "      <th>VIF</th>\n",
       "    </tr>\n",
       "  </thead>\n",
       "  <tbody>\n",
       "    <tr>\n",
       "      <th>0</th>\n",
       "      <td>const</td>\n",
       "      <td>10.21</td>\n",
       "    </tr>\n",
       "    <tr>\n",
       "      <th>2</th>\n",
       "      <td>Season_3</td>\n",
       "      <td>1.81</td>\n",
       "    </tr>\n",
       "    <tr>\n",
       "      <th>1</th>\n",
       "      <td>Count</td>\n",
       "      <td>1.45</td>\n",
       "    </tr>\n",
       "    <tr>\n",
       "      <th>6</th>\n",
       "      <td>Month_6</td>\n",
       "      <td>1.36</td>\n",
       "    </tr>\n",
       "    <tr>\n",
       "      <th>3</th>\n",
       "      <td>Year_2020</td>\n",
       "      <td>1.31</td>\n",
       "    </tr>\n",
       "    <tr>\n",
       "      <th>4</th>\n",
       "      <td>Year_2021</td>\n",
       "      <td>1.30</td>\n",
       "    </tr>\n",
       "    <tr>\n",
       "      <th>7</th>\n",
       "      <td>Month_9</td>\n",
       "      <td>1.18</td>\n",
       "    </tr>\n",
       "    <tr>\n",
       "      <th>5</th>\n",
       "      <td>Month_4</td>\n",
       "      <td>1.05</td>\n",
       "    </tr>\n",
       "  </tbody>\n",
       "</table>\n",
       "</div>"
      ],
      "text/plain": [
       "    Features    VIF\n",
       "0      const  10.21\n",
       "2   Season_3   1.81\n",
       "1      Count   1.45\n",
       "6    Month_6   1.36\n",
       "3  Year_2020   1.31\n",
       "4  Year_2021   1.30\n",
       "7    Month_9   1.18\n",
       "5    Month_4   1.05"
      ]
     },
     "execution_count": 55,
     "metadata": {},
     "output_type": "execute_result"
    }
   ],
   "source": [
    "from statsmodels.stats.outliers_influence import variance_inflation_factor\n",
    "\n",
    "# Create a dataframe that will contain the names of all the feature variables and their respective VIFs\n",
    "vif = pd.DataFrame()\n",
    "vif['Features'] = X_train_lm2.columns\n",
    "vif['VIF'] = [variance_inflation_factor(X_train_lm2.values, i) for i in range(X_train_lm2.shape[1])]\n",
    "vif['VIF'] = round(vif['VIF'], 2)\n",
    "vif = vif.sort_values(by = \"VIF\", ascending = False)\n",
    "vif"
   ]
  },
  {
   "cell_type": "markdown",
   "metadata": {},
   "source": [
    "Model summary and VIF are good, so we can move on"
   ]
  },
  {
   "cell_type": "code",
   "execution_count": 56,
   "metadata": {
    "execution": {
     "iopub.execute_input": "2022-07-12T14:28:11.537592Z",
     "iopub.status.busy": "2022-07-12T14:28:11.537430Z",
     "iopub.status.idle": "2022-07-12T14:28:11.900713Z",
     "shell.execute_reply": "2022-07-12T14:28:11.899772Z",
     "shell.execute_reply.started": "2022-07-12T14:28:11.537572Z"
    }
   },
   "outputs": [
    {
     "name": "stderr",
     "output_type": "stream",
     "text": [
      "/opt/conda/lib/python3.9/site-packages/seaborn/distributions.py:2619: FutureWarning: `distplot` is a deprecated function and will be removed in a future version. Please adapt your code to use either `displot` (a figure-level function with similar flexibility) or `histplot` (an axes-level function for histograms).\n",
      "  warnings.warn(msg, FutureWarning)\n"
     ]
    },
    {
     "data": {
      "text/plain": [
       "Text(0.5, 0, 'Errors')"
      ]
     },
     "execution_count": 56,
     "metadata": {},
     "output_type": "execute_result"
    },
    {
     "data": {
      "image/png": "[encoded data removed]",
      "text/plain": [
       "<Figure size 432x288 with 1 Axes>"
      ]
     },
     "metadata": {},
     "output_type": "display_data"
    }
   ],
   "source": [
    "y_train_pred = lr2.predict(X_train_lm2)\n",
    "res = y_train-y_train_pred\n",
    "# Plot the histogram of the error terms\n",
    "fig = plt.figure()\n",
    "sns.distplot((res), bins = 20)\n",
    "fig.suptitle('Error Terms', fontsize = 20)                  # Plot heading \n",
    "plt.xlabel('Errors', fontsize = 18) "
   ]
  },
  {
   "cell_type": "markdown",
   "metadata": {},
   "source": [
    "Error terms seem to be approximately normally distributed, as they should in a LM. \n",
    "\n",
    "Also, we check the qqplot."
   ]
  },
  {
   "cell_type": "code",
   "execution_count": 57,
   "metadata": {
    "execution": {
     "iopub.execute_input": "2022-07-12T14:28:11.901801Z",
     "iopub.status.busy": "2022-07-12T14:28:11.901629Z",
     "iopub.status.idle": "2022-07-12T14:28:12.038819Z",
     "shell.execute_reply": "2022-07-12T14:28:12.038256Z",
     "shell.execute_reply.started": "2022-07-12T14:28:11.901782Z"
    }
   },
   "outputs": [
    {
     "data": {
      "image/png": "[encoded data removed]",
      "text/plain": [
       "<Figure size 432x288 with 1 Axes>"
      ]
     },
     "metadata": {},
     "output_type": "display_data"
    }
   ],
   "source": [
    "import statsmodels.api as sm\n",
    "sm.qqplot(res,fit=True,line='45')\n",
    "plt.show()"
   ]
  },
  {
   "cell_type": "markdown",
   "metadata": {},
   "source": [
    "Both give us the green light for proceeding with the linear model."
   ]
  },
  {
   "cell_type": "markdown",
   "metadata": {},
   "source": [
    "7. Test data performance"
   ]
  },
  {
   "cell_type": "code",
   "execution_count": 58,
   "metadata": {
    "execution": {
     "iopub.execute_input": "2022-07-12T14:28:12.040259Z",
     "iopub.status.busy": "2022-07-12T14:28:12.039755Z",
     "iopub.status.idle": "2022-07-12T14:28:12.050493Z",
     "shell.execute_reply": "2022-07-12T14:28:12.049732Z",
     "shell.execute_reply.started": "2022-07-12T14:28:12.040233Z"
    }
   },
   "outputs": [
    {
     "data": {
      "text/html": [
       "<div>\n",
       "<style scoped>\n",
       "    .dataframe tbody tr th:only-of-type {\n",
       "        vertical-align: middle;\n",
       "    }\n",
       "\n",
       "    .dataframe tbody tr th {\n",
       "        vertical-align: top;\n",
       "    }\n",
       "\n",
       "    .dataframe thead th {\n",
       "        text-align: right;\n",
       "    }\n",
       "</style>\n",
       "<table border=\"1\" class=\"dataframe\">\n",
       "  <thead>\n",
       "    <tr style=\"text-align: right;\">\n",
       "      <th></th>\n",
       "      <th>Count</th>\n",
       "      <th>Duration</th>\n",
       "      <th>Season_2</th>\n",
       "      <th>Season_3</th>\n",
       "      <th>Season_4</th>\n",
       "      <th>Year_2020</th>\n",
       "      <th>Year_2021</th>\n",
       "      <th>Month_2</th>\n",
       "      <th>Month_3</th>\n",
       "      <th>Month_4</th>\n",
       "      <th>Month_5</th>\n",
       "      <th>Month_6</th>\n",
       "      <th>Month_7</th>\n",
       "      <th>Month_8</th>\n",
       "      <th>Month_9</th>\n",
       "      <th>Month_10</th>\n",
       "      <th>Month_11</th>\n",
       "      <th>Month_12</th>\n",
       "    </tr>\n",
       "  </thead>\n",
       "  <tbody>\n",
       "    <tr>\n",
       "      <th>5</th>\n",
       "      <td>27146</td>\n",
       "      <td>6052</td>\n",
       "      <td>1</td>\n",
       "      <td>0</td>\n",
       "      <td>0</td>\n",
       "      <td>0</td>\n",
       "      <td>0</td>\n",
       "      <td>0</td>\n",
       "      <td>1</td>\n",
       "      <td>0</td>\n",
       "      <td>0</td>\n",
       "      <td>0</td>\n",
       "      <td>0</td>\n",
       "      <td>0</td>\n",
       "      <td>0</td>\n",
       "      <td>0</td>\n",
       "      <td>0</td>\n",
       "      <td>0</td>\n",
       "    </tr>\n",
       "    <tr>\n",
       "      <th>126</th>\n",
       "      <td>36910</td>\n",
       "      <td>11147</td>\n",
       "      <td>0</td>\n",
       "      <td>1</td>\n",
       "      <td>0</td>\n",
       "      <td>1</td>\n",
       "      <td>0</td>\n",
       "      <td>0</td>\n",
       "      <td>0</td>\n",
       "      <td>0</td>\n",
       "      <td>0</td>\n",
       "      <td>0</td>\n",
       "      <td>1</td>\n",
       "      <td>0</td>\n",
       "      <td>0</td>\n",
       "      <td>0</td>\n",
       "      <td>0</td>\n",
       "      <td>0</td>\n",
       "    </tr>\n",
       "    <tr>\n",
       "      <th>379</th>\n",
       "      <td>37334</td>\n",
       "      <td>10440</td>\n",
       "      <td>0</td>\n",
       "      <td>1</td>\n",
       "      <td>0</td>\n",
       "      <td>0</td>\n",
       "      <td>1</td>\n",
       "      <td>0</td>\n",
       "      <td>0</td>\n",
       "      <td>0</td>\n",
       "      <td>0</td>\n",
       "      <td>0</td>\n",
       "      <td>1</td>\n",
       "      <td>0</td>\n",
       "      <td>0</td>\n",
       "      <td>0</td>\n",
       "      <td>0</td>\n",
       "      <td>0</td>\n",
       "    </tr>\n",
       "    <tr>\n",
       "      <th>661</th>\n",
       "      <td>28289</td>\n",
       "      <td>6724</td>\n",
       "      <td>1</td>\n",
       "      <td>0</td>\n",
       "      <td>0</td>\n",
       "      <td>0</td>\n",
       "      <td>1</td>\n",
       "      <td>0</td>\n",
       "      <td>0</td>\n",
       "      <td>0</td>\n",
       "      <td>1</td>\n",
       "      <td>0</td>\n",
       "      <td>0</td>\n",
       "      <td>0</td>\n",
       "      <td>0</td>\n",
       "      <td>0</td>\n",
       "      <td>0</td>\n",
       "      <td>0</td>\n",
       "    </tr>\n",
       "    <tr>\n",
       "      <th>222</th>\n",
       "      <td>18500</td>\n",
       "      <td>4617</td>\n",
       "      <td>1</td>\n",
       "      <td>0</td>\n",
       "      <td>0</td>\n",
       "      <td>1</td>\n",
       "      <td>0</td>\n",
       "      <td>0</td>\n",
       "      <td>1</td>\n",
       "      <td>0</td>\n",
       "      <td>0</td>\n",
       "      <td>0</td>\n",
       "      <td>0</td>\n",
       "      <td>0</td>\n",
       "      <td>0</td>\n",
       "      <td>0</td>\n",
       "      <td>0</td>\n",
       "      <td>0</td>\n",
       "    </tr>\n",
       "  </tbody>\n",
       "</table>\n",
       "</div>"
      ],
      "text/plain": [
       "     Count  Duration  Season_2  Season_3  Season_4  Year_2020  Year_2021  \\\n",
       "5    27146      6052         1         0         0          0          0   \n",
       "126  36910     11147         0         1         0          1          0   \n",
       "379  37334     10440         0         1         0          0          1   \n",
       "661  28289      6724         1         0         0          0          1   \n",
       "222  18500      4617         1         0         0          1          0   \n",
       "\n",
       "     Month_2  Month_3  Month_4  Month_5  Month_6  Month_7  Month_8  Month_9  \\\n",
       "5          0        1        0        0        0        0        0        0   \n",
       "126        0        0        0        0        0        1        0        0   \n",
       "379        0        0        0        0        0        1        0        0   \n",
       "661        0        0        0        1        0        0        0        0   \n",
       "222        0        1        0        0        0        0        0        0   \n",
       "\n",
       "     Month_10  Month_11  Month_12  \n",
       "5           0         0         0  \n",
       "126         0         0         0  \n",
       "379         0         0         0  \n",
       "661         0         0         0  \n",
       "222         0         0         0  "
      ]
     },
     "execution_count": 58,
     "metadata": {},
     "output_type": "execute_result"
    }
   ],
   "source": [
    "df_test.head()"
   ]
  },
  {
   "cell_type": "code",
   "execution_count": 59,
   "metadata": {
    "execution": {
     "iopub.execute_input": "2022-07-12T14:28:12.051432Z",
     "iopub.status.busy": "2022-07-12T14:28:12.051278Z",
     "iopub.status.idle": "2022-07-12T14:28:12.067990Z",
     "shell.execute_reply": "2022-07-12T14:28:12.067209Z",
     "shell.execute_reply.started": "2022-07-12T14:28:12.051414Z"
    }
   },
   "outputs": [
    {
     "data": {
      "text/html": [
       "<div>\n",
       "<style scoped>\n",
       "    .dataframe tbody tr th:only-of-type {\n",
       "        vertical-align: middle;\n",
       "    }\n",
       "\n",
       "    .dataframe tbody tr th {\n",
       "        vertical-align: top;\n",
       "    }\n",
       "\n",
       "    .dataframe thead th {\n",
       "        text-align: right;\n",
       "    }\n",
       "</style>\n",
       "<table border=\"1\" class=\"dataframe\">\n",
       "  <thead>\n",
       "    <tr style=\"text-align: right;\">\n",
       "      <th></th>\n",
       "      <th>Count</th>\n",
       "      <th>Duration</th>\n",
       "      <th>Season_2</th>\n",
       "      <th>Season_3</th>\n",
       "      <th>Season_4</th>\n",
       "      <th>Year_2020</th>\n",
       "      <th>Year_2021</th>\n",
       "      <th>Month_2</th>\n",
       "      <th>Month_3</th>\n",
       "      <th>Month_4</th>\n",
       "      <th>Month_5</th>\n",
       "      <th>Month_6</th>\n",
       "      <th>Month_7</th>\n",
       "      <th>Month_8</th>\n",
       "      <th>Month_9</th>\n",
       "      <th>Month_10</th>\n",
       "      <th>Month_11</th>\n",
       "      <th>Month_12</th>\n",
       "    </tr>\n",
       "  </thead>\n",
       "  <tbody>\n",
       "    <tr>\n",
       "      <th>5</th>\n",
       "      <td>0.472830</td>\n",
       "      <td>0.283698</td>\n",
       "      <td>1</td>\n",
       "      <td>0</td>\n",
       "      <td>0</td>\n",
       "      <td>0</td>\n",
       "      <td>0</td>\n",
       "      <td>0</td>\n",
       "      <td>1</td>\n",
       "      <td>0</td>\n",
       "      <td>0</td>\n",
       "      <td>0</td>\n",
       "      <td>0</td>\n",
       "      <td>0</td>\n",
       "      <td>0</td>\n",
       "      <td>0</td>\n",
       "      <td>0</td>\n",
       "      <td>0</td>\n",
       "    </tr>\n",
       "    <tr>\n",
       "      <th>126</th>\n",
       "      <td>0.682795</td>\n",
       "      <td>0.592355</td>\n",
       "      <td>0</td>\n",
       "      <td>1</td>\n",
       "      <td>0</td>\n",
       "      <td>1</td>\n",
       "      <td>0</td>\n",
       "      <td>0</td>\n",
       "      <td>0</td>\n",
       "      <td>0</td>\n",
       "      <td>0</td>\n",
       "      <td>0</td>\n",
       "      <td>1</td>\n",
       "      <td>0</td>\n",
       "      <td>0</td>\n",
       "      <td>0</td>\n",
       "      <td>0</td>\n",
       "      <td>0</td>\n",
       "    </tr>\n",
       "    <tr>\n",
       "      <th>379</th>\n",
       "      <td>0.691912</td>\n",
       "      <td>0.549524</td>\n",
       "      <td>0</td>\n",
       "      <td>1</td>\n",
       "      <td>0</td>\n",
       "      <td>0</td>\n",
       "      <td>1</td>\n",
       "      <td>0</td>\n",
       "      <td>0</td>\n",
       "      <td>0</td>\n",
       "      <td>0</td>\n",
       "      <td>0</td>\n",
       "      <td>1</td>\n",
       "      <td>0</td>\n",
       "      <td>0</td>\n",
       "      <td>0</td>\n",
       "      <td>0</td>\n",
       "      <td>0</td>\n",
       "    </tr>\n",
       "    <tr>\n",
       "      <th>661</th>\n",
       "      <td>0.497409</td>\n",
       "      <td>0.324408</td>\n",
       "      <td>1</td>\n",
       "      <td>0</td>\n",
       "      <td>0</td>\n",
       "      <td>0</td>\n",
       "      <td>1</td>\n",
       "      <td>0</td>\n",
       "      <td>0</td>\n",
       "      <td>0</td>\n",
       "      <td>1</td>\n",
       "      <td>0</td>\n",
       "      <td>0</td>\n",
       "      <td>0</td>\n",
       "      <td>0</td>\n",
       "      <td>0</td>\n",
       "      <td>0</td>\n",
       "      <td>0</td>\n",
       "    </tr>\n",
       "    <tr>\n",
       "      <th>222</th>\n",
       "      <td>0.286906</td>\n",
       "      <td>0.196765</td>\n",
       "      <td>1</td>\n",
       "      <td>0</td>\n",
       "      <td>0</td>\n",
       "      <td>1</td>\n",
       "      <td>0</td>\n",
       "      <td>0</td>\n",
       "      <td>1</td>\n",
       "      <td>0</td>\n",
       "      <td>0</td>\n",
       "      <td>0</td>\n",
       "      <td>0</td>\n",
       "      <td>0</td>\n",
       "      <td>0</td>\n",
       "      <td>0</td>\n",
       "      <td>0</td>\n",
       "      <td>0</td>\n",
       "    </tr>\n",
       "  </tbody>\n",
       "</table>\n",
       "</div>"
      ],
      "text/plain": [
       "        Count  Duration  Season_2  Season_3  Season_4  Year_2020  Year_2021  \\\n",
       "5    0.472830  0.283698         1         0         0          0          0   \n",
       "126  0.682795  0.592355         0         1         0          1          0   \n",
       "379  0.691912  0.549524         0         1         0          0          1   \n",
       "661  0.497409  0.324408         1         0         0          0          1   \n",
       "222  0.286906  0.196765         1         0         0          1          0   \n",
       "\n",
       "     Month_2  Month_3  Month_4  Month_5  Month_6  Month_7  Month_8  Month_9  \\\n",
       "5          0        1        0        0        0        0        0        0   \n",
       "126        0        0        0        0        0        1        0        0   \n",
       "379        0        0        0        0        0        1        0        0   \n",
       "661        0        0        0        1        0        0        0        0   \n",
       "222        0        1        0        0        0        0        0        0   \n",
       "\n",
       "     Month_10  Month_11  Month_12  \n",
       "5           0         0         0  \n",
       "126         0         0         0  \n",
       "379         0         0         0  \n",
       "661         0         0         0  \n",
       "222         0         0         0  "
      ]
     },
     "execution_count": 59,
     "metadata": {},
     "output_type": "execute_result"
    }
   ],
   "source": [
    "df_test['Duration'] = scaler.fit_transform(df_test[['Duration']]).flatten()\n",
    "df_test['Count'] = scaler.fit_transform(df_test[['Count']]).flatten()\n",
    "df_test.head()"
   ]
  },
  {
   "cell_type": "code",
   "execution_count": 60,
   "metadata": {
    "execution": {
     "iopub.execute_input": "2022-07-12T14:28:12.068819Z",
     "iopub.status.busy": "2022-07-12T14:28:12.068678Z",
     "iopub.status.idle": "2022-07-12T14:28:12.077906Z",
     "shell.execute_reply": "2022-07-12T14:28:12.077396Z",
     "shell.execute_reply.started": "2022-07-12T14:28:12.068801Z"
    }
   },
   "outputs": [
    {
     "name": "stdout",
     "output_type": "stream",
     "text": [
      "<class 'pandas.core.frame.DataFrame'>\n",
      "Int64Index: 326 entries, 5 to 301\n",
      "Data columns (total 17 columns):\n",
      " #   Column     Non-Null Count  Dtype  \n",
      "---  ------     --------------  -----  \n",
      " 0   Count      326 non-null    float64\n",
      " 1   Season_2   326 non-null    uint8  \n",
      " 2   Season_3   326 non-null    uint8  \n",
      " 3   Season_4   326 non-null    uint8  \n",
      " 4   Year_2020  326 non-null    uint8  \n",
      " 5   Year_2021  326 non-null    uint8  \n",
      " 6   Month_2    326 non-null    uint8  \n",
      " 7   Month_3    326 non-null    uint8  \n",
      " 8   Month_4    326 non-null    uint8  \n",
      " 9   Month_5    326 non-null    uint8  \n",
      " 10  Month_6    326 non-null    uint8  \n",
      " 11  Month_7    326 non-null    uint8  \n",
      " 12  Month_8    326 non-null    uint8  \n",
      " 13  Month_9    326 non-null    uint8  \n",
      " 14  Month_10   326 non-null    uint8  \n",
      " 15  Month_11   326 non-null    uint8  \n",
      " 16  Month_12   326 non-null    uint8  \n",
      "dtypes: float64(1), uint8(16)\n",
      "memory usage: 10.2 KB\n"
     ]
    }
   ],
   "source": [
    "# Dividing into X_test and y_test¶\n",
    "y_test = df_test.pop('Duration')\n",
    "X_test = df_test\n",
    "X_test.info()"
   ]
  },
  {
   "cell_type": "code",
   "execution_count": 61,
   "metadata": {
    "execution": {
     "iopub.execute_input": "2022-07-12T14:28:12.079010Z",
     "iopub.status.busy": "2022-07-12T14:28:12.078853Z",
     "iopub.status.idle": "2022-07-12T14:28:12.091171Z",
     "shell.execute_reply": "2022-07-12T14:28:12.090596Z",
     "shell.execute_reply.started": "2022-07-12T14:28:12.078991Z"
    }
   },
   "outputs": [
    {
     "name": "stdout",
     "output_type": "stream",
     "text": [
      "<class 'pandas.core.frame.DataFrame'>\n",
      "Int64Index: 326 entries, 5 to 301\n",
      "Data columns (total 8 columns):\n",
      " #   Column     Non-Null Count  Dtype  \n",
      "---  ------     --------------  -----  \n",
      " 0   const      326 non-null    float64\n",
      " 1   Count      326 non-null    float64\n",
      " 2   Season_3   326 non-null    uint8  \n",
      " 3   Year_2020  326 non-null    uint8  \n",
      " 4   Year_2021  326 non-null    uint8  \n",
      " 5   Month_4    326 non-null    uint8  \n",
      " 6   Month_6    326 non-null    uint8  \n",
      " 7   Month_9    326 non-null    uint8  \n",
      "dtypes: float64(2), uint8(6)\n",
      "memory usage: 9.6 KB\n"
     ]
    }
   ],
   "source": [
    "#Selecting the variables that were part of final model.\n",
    "col1=X_train_lm2.drop('const', axis=1).columns\n",
    "X_test=X_test[col1]\n",
    "# Adding constant variable to test dataframe\n",
    "X_test = sm.add_constant(X_test)\n",
    "X_test.info()"
   ]
  },
  {
   "cell_type": "code",
   "execution_count": 62,
   "metadata": {
    "execution": {
     "iopub.execute_input": "2022-07-12T14:28:12.092018Z",
     "iopub.status.busy": "2022-07-12T14:28:12.091869Z",
     "iopub.status.idle": "2022-07-12T14:28:12.115891Z",
     "shell.execute_reply": "2022-07-12T14:28:12.115294Z",
     "shell.execute_reply.started": "2022-07-12T14:28:12.092000Z"
    }
   },
   "outputs": [
    {
     "data": {
      "text/html": [
       "<div>\n",
       "<style scoped>\n",
       "    .dataframe tbody tr th:only-of-type {\n",
       "        vertical-align: middle;\n",
       "    }\n",
       "\n",
       "    .dataframe tbody tr th {\n",
       "        vertical-align: top;\n",
       "    }\n",
       "\n",
       "    .dataframe thead th {\n",
       "        text-align: right;\n",
       "    }\n",
       "</style>\n",
       "<table border=\"1\" class=\"dataframe\">\n",
       "  <thead>\n",
       "    <tr style=\"text-align: right;\">\n",
       "      <th></th>\n",
       "      <th>const</th>\n",
       "      <th>Count</th>\n",
       "      <th>Season_3</th>\n",
       "      <th>Year_2020</th>\n",
       "      <th>Year_2021</th>\n",
       "      <th>Month_4</th>\n",
       "      <th>Month_6</th>\n",
       "      <th>Month_9</th>\n",
       "    </tr>\n",
       "  </thead>\n",
       "  <tbody>\n",
       "    <tr>\n",
       "      <th>count</th>\n",
       "      <td>326.0</td>\n",
       "      <td>326.000000</td>\n",
       "      <td>326.000000</td>\n",
       "      <td>326.000000</td>\n",
       "      <td>326.000000</td>\n",
       "      <td>326.000000</td>\n",
       "      <td>326.000000</td>\n",
       "      <td>326.000000</td>\n",
       "    </tr>\n",
       "    <tr>\n",
       "      <th>mean</th>\n",
       "      <td>1.0</td>\n",
       "      <td>0.465613</td>\n",
       "      <td>0.230061</td>\n",
       "      <td>0.349693</td>\n",
       "      <td>0.365031</td>\n",
       "      <td>0.085890</td>\n",
       "      <td>0.073620</td>\n",
       "      <td>0.107362</td>\n",
       "    </tr>\n",
       "    <tr>\n",
       "      <th>std</th>\n",
       "      <td>0.0</td>\n",
       "      <td>0.203427</td>\n",
       "      <td>0.421519</td>\n",
       "      <td>0.477606</td>\n",
       "      <td>0.482179</td>\n",
       "      <td>0.280632</td>\n",
       "      <td>0.261552</td>\n",
       "      <td>0.310049</td>\n",
       "    </tr>\n",
       "    <tr>\n",
       "      <th>min</th>\n",
       "      <td>1.0</td>\n",
       "      <td>0.000000</td>\n",
       "      <td>0.000000</td>\n",
       "      <td>0.000000</td>\n",
       "      <td>0.000000</td>\n",
       "      <td>0.000000</td>\n",
       "      <td>0.000000</td>\n",
       "      <td>0.000000</td>\n",
       "    </tr>\n",
       "    <tr>\n",
       "      <th>25%</th>\n",
       "      <td>1.0</td>\n",
       "      <td>0.320538</td>\n",
       "      <td>0.000000</td>\n",
       "      <td>0.000000</td>\n",
       "      <td>0.000000</td>\n",
       "      <td>0.000000</td>\n",
       "      <td>0.000000</td>\n",
       "      <td>0.000000</td>\n",
       "    </tr>\n",
       "    <tr>\n",
       "      <th>50%</th>\n",
       "      <td>1.0</td>\n",
       "      <td>0.476668</td>\n",
       "      <td>0.000000</td>\n",
       "      <td>0.000000</td>\n",
       "      <td>0.000000</td>\n",
       "      <td>0.000000</td>\n",
       "      <td>0.000000</td>\n",
       "      <td>0.000000</td>\n",
       "    </tr>\n",
       "    <tr>\n",
       "      <th>75%</th>\n",
       "      <td>1.0</td>\n",
       "      <td>0.620277</td>\n",
       "      <td>0.000000</td>\n",
       "      <td>1.000000</td>\n",
       "      <td>1.000000</td>\n",
       "      <td>0.000000</td>\n",
       "      <td>0.000000</td>\n",
       "      <td>0.000000</td>\n",
       "    </tr>\n",
       "    <tr>\n",
       "      <th>max</th>\n",
       "      <td>1.0</td>\n",
       "      <td>1.000000</td>\n",
       "      <td>1.000000</td>\n",
       "      <td>1.000000</td>\n",
       "      <td>1.000000</td>\n",
       "      <td>1.000000</td>\n",
       "      <td>1.000000</td>\n",
       "      <td>1.000000</td>\n",
       "    </tr>\n",
       "  </tbody>\n",
       "</table>\n",
       "</div>"
      ],
      "text/plain": [
       "       const       Count    Season_3   Year_2020   Year_2021     Month_4  \\\n",
       "count  326.0  326.000000  326.000000  326.000000  326.000000  326.000000   \n",
       "mean     1.0    0.465613    0.230061    0.349693    0.365031    0.085890   \n",
       "std      0.0    0.203427    0.421519    0.477606    0.482179    0.280632   \n",
       "min      1.0    0.000000    0.000000    0.000000    0.000000    0.000000   \n",
       "25%      1.0    0.320538    0.000000    0.000000    0.000000    0.000000   \n",
       "50%      1.0    0.476668    0.000000    0.000000    0.000000    0.000000   \n",
       "75%      1.0    0.620277    0.000000    1.000000    1.000000    0.000000   \n",
       "max      1.0    1.000000    1.000000    1.000000    1.000000    1.000000   \n",
       "\n",
       "          Month_6     Month_9  \n",
       "count  326.000000  326.000000  \n",
       "mean     0.073620    0.107362  \n",
       "std      0.261552    0.310049  \n",
       "min      0.000000    0.000000  \n",
       "25%      0.000000    0.000000  \n",
       "50%      0.000000    0.000000  \n",
       "75%      0.000000    0.000000  \n",
       "max      1.000000    1.000000  "
      ]
     },
     "execution_count": 62,
     "metadata": {},
     "output_type": "execute_result"
    }
   ],
   "source": [
    "X_test.describe()"
   ]
  },
  {
   "cell_type": "code",
   "execution_count": 63,
   "metadata": {
    "execution": {
     "iopub.execute_input": "2022-07-12T14:28:12.116739Z",
     "iopub.status.busy": "2022-07-12T14:28:12.116589Z",
     "iopub.status.idle": "2022-07-12T14:28:12.120148Z",
     "shell.execute_reply": "2022-07-12T14:28:12.119704Z",
     "shell.execute_reply.started": "2022-07-12T14:28:12.116722Z"
    }
   },
   "outputs": [],
   "source": [
    "y_pred = lr2.predict(X_test)"
   ]
  },
  {
   "cell_type": "code",
   "execution_count": 64,
   "metadata": {
    "execution": {
     "iopub.execute_input": "2022-07-12T14:28:12.121260Z",
     "iopub.status.busy": "2022-07-12T14:28:12.121033Z",
     "iopub.status.idle": "2022-07-12T14:28:12.256180Z",
     "shell.execute_reply": "2022-07-12T14:28:12.255700Z",
     "shell.execute_reply.started": "2022-07-12T14:28:12.121167Z"
    }
   },
   "outputs": [
    {
     "data": {
      "image/png": "[encoded data removed]",
      "text/plain": [
       "<Figure size 432x288 with 1 Axes>"
      ]
     },
     "metadata": {},
     "output_type": "display_data"
    }
   ],
   "source": [
    "# Plotting y_test and y_pred to understand the spread\n",
    "fig = plt.figure()\n",
    "plt.scatter(y_test, y_pred, alpha=.5)\n",
    "fig.suptitle('y_test vs y_pred', fontsize = 20)              # Plot heading \n",
    "plt.xlabel('y_test', fontsize = 18)                          # X-label\n",
    "plt.ylabel('y_pred', fontsize = 16) \n",
    "plt.show()"
   ]
  },
  {
   "cell_type": "code",
   "execution_count": 65,
   "metadata": {
    "execution": {
     "iopub.execute_input": "2022-07-12T14:28:12.257186Z",
     "iopub.status.busy": "2022-07-12T14:28:12.257016Z",
     "iopub.status.idle": "2022-07-12T14:28:12.262147Z",
     "shell.execute_reply": "2022-07-12T14:28:12.261727Z",
     "shell.execute_reply.started": "2022-07-12T14:28:12.257166Z"
    }
   },
   "outputs": [
    {
     "data": {
      "text/plain": [
       "0.9083885419095608"
      ]
     },
     "execution_count": 65,
     "metadata": {},
     "output_type": "execute_result"
    }
   ],
   "source": [
    "from sklearn.metrics import r2_score\n",
    "r2 = r2_score(y_test, y_pred)\n",
    "r2"
   ]
  },
  {
   "cell_type": "code",
   "execution_count": 66,
   "metadata": {
    "execution": {
     "iopub.execute_input": "2022-07-12T14:28:12.263146Z",
     "iopub.status.busy": "2022-07-12T14:28:12.262990Z",
     "iopub.status.idle": "2022-07-12T14:28:12.267103Z",
     "shell.execute_reply": "2022-07-12T14:28:12.266589Z",
     "shell.execute_reply.started": "2022-07-12T14:28:12.263128Z"
    }
   },
   "outputs": [
    {
     "data": {
      "text/plain": [
       "(326, 8)"
      ]
     },
     "execution_count": 66,
     "metadata": {},
     "output_type": "execute_result"
    }
   ],
   "source": [
    "X_test.shape"
   ]
  },
  {
   "cell_type": "code",
   "execution_count": 67,
   "metadata": {
    "execution": {
     "iopub.execute_input": "2022-07-12T14:28:12.268138Z",
     "iopub.status.busy": "2022-07-12T14:28:12.267767Z",
     "iopub.status.idle": "2022-07-12T14:28:12.272754Z",
     "shell.execute_reply": "2022-07-12T14:28:12.272191Z",
     "shell.execute_reply.started": "2022-07-12T14:28:12.268117Z"
    }
   },
   "outputs": [
    {
     "data": {
      "text/plain": [
       "0.9060765808221048"
      ]
     },
     "execution_count": 67,
     "metadata": {},
     "output_type": "execute_result"
    }
   ],
   "source": [
    "# n is number of rows in X\n",
    "\n",
    "n = X_test.shape[0]\n",
    "\n",
    "\n",
    "# Number of features (predictors, p) is the shape along axis 1\n",
    "p = X_test.shape[1]\n",
    "\n",
    "# We find the Adjusted R-squared using the formula\n",
    "\n",
    "adjusted_r2 = 1-(1-r2)*(n-1)/(n-p-1)\n",
    "adjusted_r2"
   ]
  }
 ],
 "metadata": {
  "colab": {
   "name": "PwC data science.ipynb",
   "provenance": []
  },
  "kernelspec": {
   "display_name": "Python 3 (ipykernel)",
   "language": "python",
   "name": "python3"
  },
  "language_info": {
   "codemirror_mode": {
    "name": "ipython",
    "version": 3
   },
   "file_extension": ".py",
   "mimetype": "text/x-python",
   "name": "python",
   "nbconvert_exporter": "python",
   "pygments_lexer": "ipython3",
   "version": "3.9.10"
  }
 },
 "nbformat": 4,
 "nbformat_minor": 4
}
