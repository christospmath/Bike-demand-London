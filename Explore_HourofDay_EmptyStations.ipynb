{
 "cells": [
  {
   "cell_type": "code",
   "execution_count": 19,
   "id": "a8b91a27-fa25-4b22-87ac-1ed55496b36e",
   "metadata": {
    "execution": {
     "iopub.execute_input": "2022-10-25T06:43:07.016019Z",
     "iopub.status.busy": "2022-10-25T06:43:07.015469Z",
     "iopub.status.idle": "2022-10-25T06:43:07.019409Z",
     "shell.execute_reply": "2022-10-25T06:43:07.018646Z",
     "shell.execute_reply.started": "2022-10-25T06:43:07.015994Z"
    }
   },
   "outputs": [],
   "source": [
    "import warnings\n",
    "import pandas as pd\n",
    "import datetime\n",
    "warnings.filterwarnings('ignore')"
   ]
  },
  {
   "cell_type": "code",
   "execution_count": 2,
   "id": "e047992a-bc84-46fe-812b-ca8925af8fa8",
   "metadata": {
    "execution": {
     "iopub.execute_input": "2022-10-25T06:06:43.183313Z",
     "iopub.status.busy": "2022-10-25T06:06:43.182606Z",
     "iopub.status.idle": "2022-10-25T06:08:15.282535Z",
     "shell.execute_reply": "2022-10-25T06:08:15.281859Z",
     "shell.execute_reply.started": "2022-10-25T06:06:43.183288Z"
    }
   },
   "outputs": [],
   "source": [
    "bike = pd.read_csv('/notebooks/bike.tar.bz2',index_col=0)"
   ]
  },
  {
   "cell_type": "code",
   "execution_count": 3,
   "id": "5f749ad7-74a7-4b7a-9acd-b31dd555ff1d",
   "metadata": {
    "execution": {
     "iopub.execute_input": "2022-10-25T06:08:15.283916Z",
     "iopub.status.busy": "2022-10-25T06:08:15.283685Z",
     "iopub.status.idle": "2022-10-25T06:36:52.253125Z",
     "shell.execute_reply": "2022-10-25T06:36:52.252361Z",
     "shell.execute_reply.started": "2022-10-25T06:08:15.283895Z"
    }
   },
   "outputs": [],
   "source": [
    "bike['Start Date'] = bike['Start Date'].astype('datetime64[ns]')"
   ]
  },
  {
   "cell_type": "code",
   "execution_count": 4,
   "id": "4eb04bf4-8b5d-46ff-9d04-0b5430fa465d",
   "metadata": {
    "execution": {
     "iopub.execute_input": "2022-10-25T06:36:52.255459Z",
     "iopub.status.busy": "2022-10-25T06:36:52.255248Z",
     "iopub.status.idle": "2022-10-25T06:36:52.270298Z",
     "shell.execute_reply": "2022-10-25T06:36:52.269653Z",
     "shell.execute_reply.started": "2022-10-25T06:36:52.255440Z"
    }
   },
   "outputs": [
    {
     "data": {
      "text/html": [
       "<div>\n",
       "<style scoped>\n",
       "    .dataframe tbody tr th:only-of-type {\n",
       "        vertical-align: middle;\n",
       "    }\n",
       "\n",
       "    .dataframe tbody tr th {\n",
       "        vertical-align: top;\n",
       "    }\n",
       "\n",
       "    .dataframe thead th {\n",
       "        text-align: right;\n",
       "    }\n",
       "</style>\n",
       "<table border=\"1\" class=\"dataframe\">\n",
       "  <thead>\n",
       "    <tr style=\"text-align: right;\">\n",
       "      <th></th>\n",
       "      <th>Duration</th>\n",
       "      <th>Bike Id</th>\n",
       "      <th>End Date</th>\n",
       "      <th>EndStation Id</th>\n",
       "      <th>Start Date</th>\n",
       "      <th>StartStation Id</th>\n",
       "    </tr>\n",
       "    <tr>\n",
       "      <th>bike.tar.bz2</th>\n",
       "      <th></th>\n",
       "      <th></th>\n",
       "      <th></th>\n",
       "      <th></th>\n",
       "      <th></th>\n",
       "      <th></th>\n",
       "    </tr>\n",
       "  </thead>\n",
       "  <tbody>\n",
       "    <tr>\n",
       "      <th>83284852.0</th>\n",
       "      <td>660.0</td>\n",
       "      <td>8282.0</td>\n",
       "      <td>02/01/2019 17:47</td>\n",
       "      <td>94.0</td>\n",
       "      <td>2019-02-01 17:36:00</td>\n",
       "      <td>197.0</td>\n",
       "    </tr>\n",
       "    <tr>\n",
       "      <th>83360769.0</th>\n",
       "      <td>180.0</td>\n",
       "      <td>4657.0</td>\n",
       "      <td>06/01/2019 18:14</td>\n",
       "      <td>94.0</td>\n",
       "      <td>2019-06-01 18:11:00</td>\n",
       "      <td>269.0</td>\n",
       "    </tr>\n",
       "    <tr>\n",
       "      <th>83280311.0</th>\n",
       "      <td>960.0</td>\n",
       "      <td>6306.0</td>\n",
       "      <td>02/01/2019 14:49</td>\n",
       "      <td>374.0</td>\n",
       "      <td>2019-02-01 14:33:00</td>\n",
       "      <td>5.0</td>\n",
       "    </tr>\n",
       "    <tr>\n",
       "      <th>83323626.0</th>\n",
       "      <td>120.0</td>\n",
       "      <td>6217.0</td>\n",
       "      <td>04/01/2019 12:54</td>\n",
       "      <td>269.0</td>\n",
       "      <td>2019-04-01 12:52:00</td>\n",
       "      <td>94.0</td>\n",
       "    </tr>\n",
       "    <tr>\n",
       "      <th>83343322.0</th>\n",
       "      <td>120.0</td>\n",
       "      <td>848.0</td>\n",
       "      <td>05/01/2019 16:03</td>\n",
       "      <td>269.0</td>\n",
       "      <td>2019-05-01 16:01:00</td>\n",
       "      <td>94.0</td>\n",
       "    </tr>\n",
       "  </tbody>\n",
       "</table>\n",
       "</div>"
      ],
      "text/plain": [
       "              Duration  Bike Id          End Date  EndStation Id  \\\n",
       "bike.tar.bz2                                                       \n",
       "83284852.0       660.0   8282.0  02/01/2019 17:47           94.0   \n",
       "83360769.0       180.0   4657.0  06/01/2019 18:14           94.0   \n",
       "83280311.0       960.0   6306.0  02/01/2019 14:49          374.0   \n",
       "83323626.0       120.0   6217.0  04/01/2019 12:54          269.0   \n",
       "83343322.0       120.0    848.0  05/01/2019 16:03          269.0   \n",
       "\n",
       "                      Start Date  StartStation Id  \n",
       "bike.tar.bz2                                       \n",
       "83284852.0   2019-02-01 17:36:00            197.0  \n",
       "83360769.0   2019-06-01 18:11:00            269.0  \n",
       "83280311.0   2019-02-01 14:33:00              5.0  \n",
       "83323626.0   2019-04-01 12:52:00             94.0  \n",
       "83343322.0   2019-05-01 16:01:00             94.0  "
      ]
     },
     "execution_count": 4,
     "metadata": {},
     "output_type": "execute_result"
    }
   ],
   "source": [
    "bike.head()"
   ]
  },
  {
   "cell_type": "code",
   "execution_count": 5,
   "id": "ce8f3505-13b2-4e82-a0ba-358f8a5ae55a",
   "metadata": {
    "execution": {
     "iopub.execute_input": "2022-10-25T06:36:52.271892Z",
     "iopub.status.busy": "2022-10-25T06:36:52.271645Z",
     "iopub.status.idle": "2022-10-25T06:36:52.283126Z",
     "shell.execute_reply": "2022-10-25T06:36:52.282478Z",
     "shell.execute_reply.started": "2022-10-25T06:36:52.271838Z"
    }
   },
   "outputs": [
    {
     "name": "stdout",
     "output_type": "stream",
     "text": [
      "<class 'pandas.core.frame.DataFrame'>\n",
      "Float64Index: 31259721 entries, 83284852.0 to nan\n",
      "Data columns (total 6 columns):\n",
      " #   Column           Dtype         \n",
      "---  ------           -----         \n",
      " 0   Duration         float64       \n",
      " 1   Bike Id          float64       \n",
      " 2   End Date         object        \n",
      " 3   EndStation Id    float64       \n",
      " 4   Start Date       datetime64[ns]\n",
      " 5   StartStation Id  float64       \n",
      "dtypes: datetime64[ns](1), float64(4), object(1)\n",
      "memory usage: 1.6+ GB\n"
     ]
    }
   ],
   "source": [
    "bike.info()"
   ]
  },
  {
   "cell_type": "code",
   "execution_count": 6,
   "id": "cc413bd5-5f62-4c9f-a573-f399cb05191e",
   "metadata": {
    "execution": {
     "iopub.execute_input": "2022-10-25T06:36:52.284208Z",
     "iopub.status.busy": "2022-10-25T06:36:52.283983Z",
     "iopub.status.idle": "2022-10-25T06:37:05.160005Z",
     "shell.execute_reply": "2022-10-25T06:37:05.159494Z",
     "shell.execute_reply.started": "2022-10-25T06:36:52.284188Z"
    }
   },
   "outputs": [
    {
     "name": "stdout",
     "output_type": "stream",
     "text": [
      "CPU times: user 11.2 s, sys: 1.64 s, total: 12.8 s\n",
      "Wall time: 12.9 s\n"
     ]
    },
    {
     "data": {
      "text/html": [
       "<div>\n",
       "<style scoped>\n",
       "    .dataframe tbody tr th:only-of-type {\n",
       "        vertical-align: middle;\n",
       "    }\n",
       "\n",
       "    .dataframe tbody tr th {\n",
       "        vertical-align: top;\n",
       "    }\n",
       "\n",
       "    .dataframe thead th {\n",
       "        text-align: right;\n",
       "    }\n",
       "</style>\n",
       "<table border=\"1\" class=\"dataframe\">\n",
       "  <thead>\n",
       "    <tr style=\"text-align: right;\">\n",
       "      <th></th>\n",
       "      <th>Duration</th>\n",
       "      <th>Bike Id</th>\n",
       "      <th>End Date</th>\n",
       "      <th>EndStation Id</th>\n",
       "      <th>Start Date</th>\n",
       "      <th>StartStation Id</th>\n",
       "      <th>HourofDay</th>\n",
       "      <th>DayofWeek</th>\n",
       "      <th>DayofYear</th>\n",
       "      <th>Month</th>\n",
       "      <th>Season</th>\n",
       "      <th>Year</th>\n",
       "      <th>1s</th>\n",
       "    </tr>\n",
       "    <tr>\n",
       "      <th>bike.tar.bz2</th>\n",
       "      <th></th>\n",
       "      <th></th>\n",
       "      <th></th>\n",
       "      <th></th>\n",
       "      <th></th>\n",
       "      <th></th>\n",
       "      <th></th>\n",
       "      <th></th>\n",
       "      <th></th>\n",
       "      <th></th>\n",
       "      <th></th>\n",
       "      <th></th>\n",
       "      <th></th>\n",
       "    </tr>\n",
       "  </thead>\n",
       "  <tbody>\n",
       "    <tr>\n",
       "      <th>83284852.0</th>\n",
       "      <td>11.0</td>\n",
       "      <td>8282.0</td>\n",
       "      <td>02/01/2019 17:47</td>\n",
       "      <td>94.0</td>\n",
       "      <td>2019-02-01 17:36:00</td>\n",
       "      <td>197.0</td>\n",
       "      <td>17.0</td>\n",
       "      <td>4.0</td>\n",
       "      <td>32.0</td>\n",
       "      <td>2.0</td>\n",
       "      <td>1.0</td>\n",
       "      <td>2019.0</td>\n",
       "      <td>1</td>\n",
       "    </tr>\n",
       "    <tr>\n",
       "      <th>83360769.0</th>\n",
       "      <td>3.0</td>\n",
       "      <td>4657.0</td>\n",
       "      <td>06/01/2019 18:14</td>\n",
       "      <td>94.0</td>\n",
       "      <td>2019-06-01 18:11:00</td>\n",
       "      <td>269.0</td>\n",
       "      <td>18.0</td>\n",
       "      <td>5.0</td>\n",
       "      <td>152.0</td>\n",
       "      <td>6.0</td>\n",
       "      <td>2.0</td>\n",
       "      <td>2019.0</td>\n",
       "      <td>1</td>\n",
       "    </tr>\n",
       "    <tr>\n",
       "      <th>83280311.0</th>\n",
       "      <td>16.0</td>\n",
       "      <td>6306.0</td>\n",
       "      <td>02/01/2019 14:49</td>\n",
       "      <td>374.0</td>\n",
       "      <td>2019-02-01 14:33:00</td>\n",
       "      <td>5.0</td>\n",
       "      <td>14.0</td>\n",
       "      <td>4.0</td>\n",
       "      <td>32.0</td>\n",
       "      <td>2.0</td>\n",
       "      <td>1.0</td>\n",
       "      <td>2019.0</td>\n",
       "      <td>1</td>\n",
       "    </tr>\n",
       "    <tr>\n",
       "      <th>83323626.0</th>\n",
       "      <td>2.0</td>\n",
       "      <td>6217.0</td>\n",
       "      <td>04/01/2019 12:54</td>\n",
       "      <td>269.0</td>\n",
       "      <td>2019-04-01 12:52:00</td>\n",
       "      <td>94.0</td>\n",
       "      <td>12.0</td>\n",
       "      <td>0.0</td>\n",
       "      <td>91.0</td>\n",
       "      <td>4.0</td>\n",
       "      <td>2.0</td>\n",
       "      <td>2019.0</td>\n",
       "      <td>1</td>\n",
       "    </tr>\n",
       "    <tr>\n",
       "      <th>83343322.0</th>\n",
       "      <td>2.0</td>\n",
       "      <td>848.0</td>\n",
       "      <td>05/01/2019 16:03</td>\n",
       "      <td>269.0</td>\n",
       "      <td>2019-05-01 16:01:00</td>\n",
       "      <td>94.0</td>\n",
       "      <td>16.0</td>\n",
       "      <td>2.0</td>\n",
       "      <td>121.0</td>\n",
       "      <td>5.0</td>\n",
       "      <td>2.0</td>\n",
       "      <td>2019.0</td>\n",
       "      <td>1</td>\n",
       "    </tr>\n",
       "  </tbody>\n",
       "</table>\n",
       "</div>"
      ],
      "text/plain": [
       "              Duration  Bike Id          End Date  EndStation Id  \\\n",
       "bike.tar.bz2                                                       \n",
       "83284852.0        11.0   8282.0  02/01/2019 17:47           94.0   \n",
       "83360769.0         3.0   4657.0  06/01/2019 18:14           94.0   \n",
       "83280311.0        16.0   6306.0  02/01/2019 14:49          374.0   \n",
       "83323626.0         2.0   6217.0  04/01/2019 12:54          269.0   \n",
       "83343322.0         2.0    848.0  05/01/2019 16:03          269.0   \n",
       "\n",
       "                      Start Date  StartStation Id  HourofDay  DayofWeek  \\\n",
       "bike.tar.bz2                                                              \n",
       "83284852.0   2019-02-01 17:36:00            197.0       17.0        4.0   \n",
       "83360769.0   2019-06-01 18:11:00            269.0       18.0        5.0   \n",
       "83280311.0   2019-02-01 14:33:00              5.0       14.0        4.0   \n",
       "83323626.0   2019-04-01 12:52:00             94.0       12.0        0.0   \n",
       "83343322.0   2019-05-01 16:01:00             94.0       16.0        2.0   \n",
       "\n",
       "              DayofYear  Month  Season    Year  1s  \n",
       "bike.tar.bz2                                        \n",
       "83284852.0         32.0    2.0     1.0  2019.0   1  \n",
       "83360769.0        152.0    6.0     2.0  2019.0   1  \n",
       "83280311.0         32.0    2.0     1.0  2019.0   1  \n",
       "83323626.0         91.0    4.0     2.0  2019.0   1  \n",
       "83343322.0        121.0    5.0     2.0  2019.0   1  "
      ]
     },
     "execution_count": 6,
     "metadata": {},
     "output_type": "execute_result"
    }
   ],
   "source": [
    "%%time\n",
    "# time-related\n",
    "bike_time = bike.copy()\n",
    "bike_time['HourofDay'] = bike_time['Start Date'].dt.hour\n",
    "bike_time['DayofWeek'] = bike_time['Start Date'].dt.day_of_week\n",
    "bike_time['DayofYear'] = bike_time['Start Date'].dt.day_of_year\n",
    "bike_time['Month'] = bike_time['Start Date'].dt.month\n",
    "bike_time['Season'] = bike_time['Start Date'].dt.quarter\n",
    "bike_time['Year'] = bike_time['Start Date'].dt.year\n",
    "bike_time['1s'] = [1]*bike_time.shape[0]\n",
    "bike_time['Duration'] = bike_time['Duration']/60\n",
    "bike_time.head()"
   ]
  },
  {
   "cell_type": "code",
   "execution_count": 8,
   "id": "713248b7-6c12-4af7-a5e1-8ce30dc366d3",
   "metadata": {
    "execution": {
     "iopub.execute_input": "2022-10-25T06:41:16.066595Z",
     "iopub.status.busy": "2022-10-25T06:41:16.065692Z",
     "iopub.status.idle": "2022-10-25T06:41:26.542448Z",
     "shell.execute_reply": "2022-10-25T06:41:26.541694Z",
     "shell.execute_reply.started": "2022-10-25T06:41:16.066561Z"
    }
   },
   "outputs": [
    {
     "data": {
      "text/html": [
       "<div>\n",
       "<style scoped>\n",
       "    .dataframe tbody tr th:only-of-type {\n",
       "        vertical-align: middle;\n",
       "    }\n",
       "\n",
       "    .dataframe tbody tr th {\n",
       "        vertical-align: top;\n",
       "    }\n",
       "\n",
       "    .dataframe thead th {\n",
       "        text-align: right;\n",
       "    }\n",
       "</style>\n",
       "<table border=\"1\" class=\"dataframe\">\n",
       "  <thead>\n",
       "    <tr style=\"text-align: right;\">\n",
       "      <th></th>\n",
       "      <th>Duration</th>\n",
       "      <th>Bike Id</th>\n",
       "      <th>End Date</th>\n",
       "      <th>EndStation Id</th>\n",
       "      <th>Start Date</th>\n",
       "      <th>StartStation Id</th>\n",
       "      <th>HourofDay</th>\n",
       "      <th>DayofWeek</th>\n",
       "      <th>DayofYear</th>\n",
       "      <th>Month</th>\n",
       "      <th>Season</th>\n",
       "      <th>Year</th>\n",
       "      <th>1s</th>\n",
       "      <th>Date</th>\n",
       "    </tr>\n",
       "    <tr>\n",
       "      <th>bike.tar.bz2</th>\n",
       "      <th></th>\n",
       "      <th></th>\n",
       "      <th></th>\n",
       "      <th></th>\n",
       "      <th></th>\n",
       "      <th></th>\n",
       "      <th></th>\n",
       "      <th></th>\n",
       "      <th></th>\n",
       "      <th></th>\n",
       "      <th></th>\n",
       "      <th></th>\n",
       "      <th></th>\n",
       "      <th></th>\n",
       "    </tr>\n",
       "  </thead>\n",
       "  <tbody>\n",
       "    <tr>\n",
       "      <th>83270161.0</th>\n",
       "      <td>10.0</td>\n",
       "      <td>777.0</td>\n",
       "      <td>02/01/2019 00:10</td>\n",
       "      <td>631.0</td>\n",
       "      <td>2019-02-01 00:00:00</td>\n",
       "      <td>368.0</td>\n",
       "      <td>0.0</td>\n",
       "      <td>4.0</td>\n",
       "      <td>32.0</td>\n",
       "      <td>2.0</td>\n",
       "      <td>1.0</td>\n",
       "      <td>2019.0</td>\n",
       "      <td>1</td>\n",
       "      <td>2019-02-01</td>\n",
       "    </tr>\n",
       "    <tr>\n",
       "      <th>83270163.0</th>\n",
       "      <td>12.0</td>\n",
       "      <td>150.0</td>\n",
       "      <td>02/01/2019 00:13</td>\n",
       "      <td>258.0</td>\n",
       "      <td>2019-02-01 00:01:00</td>\n",
       "      <td>248.0</td>\n",
       "      <td>0.0</td>\n",
       "      <td>4.0</td>\n",
       "      <td>32.0</td>\n",
       "      <td>2.0</td>\n",
       "      <td>1.0</td>\n",
       "      <td>2019.0</td>\n",
       "      <td>1</td>\n",
       "      <td>2019-02-01</td>\n",
       "    </tr>\n",
       "    <tr>\n",
       "      <th>83270162.0</th>\n",
       "      <td>13.0</td>\n",
       "      <td>2426.0</td>\n",
       "      <td>02/01/2019 00:14</td>\n",
       "      <td>258.0</td>\n",
       "      <td>2019-02-01 00:01:00</td>\n",
       "      <td>248.0</td>\n",
       "      <td>0.0</td>\n",
       "      <td>4.0</td>\n",
       "      <td>32.0</td>\n",
       "      <td>2.0</td>\n",
       "      <td>1.0</td>\n",
       "      <td>2019.0</td>\n",
       "      <td>1</td>\n",
       "      <td>2019-02-01</td>\n",
       "    </tr>\n",
       "    <tr>\n",
       "      <th>83270167.0</th>\n",
       "      <td>9.0</td>\n",
       "      <td>1159.0</td>\n",
       "      <td>02/01/2019 00:12</td>\n",
       "      <td>298.0</td>\n",
       "      <td>2019-02-01 00:03:00</td>\n",
       "      <td>230.0</td>\n",
       "      <td>0.0</td>\n",
       "      <td>4.0</td>\n",
       "      <td>32.0</td>\n",
       "      <td>2.0</td>\n",
       "      <td>1.0</td>\n",
       "      <td>2019.0</td>\n",
       "      <td>1</td>\n",
       "      <td>2019-02-01</td>\n",
       "    </tr>\n",
       "    <tr>\n",
       "      <th>83270169.0</th>\n",
       "      <td>22.0</td>\n",
       "      <td>11063.0</td>\n",
       "      <td>02/01/2019 00:25</td>\n",
       "      <td>169.0</td>\n",
       "      <td>2019-02-01 00:03:00</td>\n",
       "      <td>733.0</td>\n",
       "      <td>0.0</td>\n",
       "      <td>4.0</td>\n",
       "      <td>32.0</td>\n",
       "      <td>2.0</td>\n",
       "      <td>1.0</td>\n",
       "      <td>2019.0</td>\n",
       "      <td>1</td>\n",
       "      <td>2019-02-01</td>\n",
       "    </tr>\n",
       "    <tr>\n",
       "      <th>...</th>\n",
       "      <td>...</td>\n",
       "      <td>...</td>\n",
       "      <td>...</td>\n",
       "      <td>...</td>\n",
       "      <td>...</td>\n",
       "      <td>...</td>\n",
       "      <td>...</td>\n",
       "      <td>...</td>\n",
       "      <td>...</td>\n",
       "      <td>...</td>\n",
       "      <td>...</td>\n",
       "      <td>...</td>\n",
       "      <td>...</td>\n",
       "      <td>...</td>\n",
       "    </tr>\n",
       "    <tr>\n",
       "      <th>83290533.0</th>\n",
       "      <td>31.0</td>\n",
       "      <td>2757.0</td>\n",
       "      <td>03/01/2019 00:30</td>\n",
       "      <td>303.0</td>\n",
       "      <td>2019-02-01 23:59:00</td>\n",
       "      <td>303.0</td>\n",
       "      <td>23.0</td>\n",
       "      <td>4.0</td>\n",
       "      <td>32.0</td>\n",
       "      <td>2.0</td>\n",
       "      <td>1.0</td>\n",
       "      <td>2019.0</td>\n",
       "      <td>1</td>\n",
       "      <td>2019-02-01</td>\n",
       "    </tr>\n",
       "    <tr>\n",
       "      <th>83290531.0</th>\n",
       "      <td>7.0</td>\n",
       "      <td>1093.0</td>\n",
       "      <td>03/01/2019 00:06</td>\n",
       "      <td>78.0</td>\n",
       "      <td>2019-02-01 23:59:00</td>\n",
       "      <td>215.0</td>\n",
       "      <td>23.0</td>\n",
       "      <td>4.0</td>\n",
       "      <td>32.0</td>\n",
       "      <td>2.0</td>\n",
       "      <td>1.0</td>\n",
       "      <td>2019.0</td>\n",
       "      <td>1</td>\n",
       "      <td>2019-02-01</td>\n",
       "    </tr>\n",
       "    <tr>\n",
       "      <th>83290532.0</th>\n",
       "      <td>5.0</td>\n",
       "      <td>2839.0</td>\n",
       "      <td>03/01/2019 00:04</td>\n",
       "      <td>242.0</td>\n",
       "      <td>2019-02-01 23:59:00</td>\n",
       "      <td>239.0</td>\n",
       "      <td>23.0</td>\n",
       "      <td>4.0</td>\n",
       "      <td>32.0</td>\n",
       "      <td>2.0</td>\n",
       "      <td>1.0</td>\n",
       "      <td>2019.0</td>\n",
       "      <td>1</td>\n",
       "      <td>2019-02-01</td>\n",
       "    </tr>\n",
       "    <tr>\n",
       "      <th>83290534.0</th>\n",
       "      <td>16.0</td>\n",
       "      <td>9775.0</td>\n",
       "      <td>03/01/2019 00:15</td>\n",
       "      <td>398.0</td>\n",
       "      <td>2019-02-01 23:59:00</td>\n",
       "      <td>157.0</td>\n",
       "      <td>23.0</td>\n",
       "      <td>4.0</td>\n",
       "      <td>32.0</td>\n",
       "      <td>2.0</td>\n",
       "      <td>1.0</td>\n",
       "      <td>2019.0</td>\n",
       "      <td>1</td>\n",
       "      <td>2019-02-01</td>\n",
       "    </tr>\n",
       "    <tr>\n",
       "      <th>83290535.0</th>\n",
       "      <td>6.0</td>\n",
       "      <td>6292.0</td>\n",
       "      <td>03/01/2019 00:05</td>\n",
       "      <td>818.0</td>\n",
       "      <td>2019-02-01 23:59:00</td>\n",
       "      <td>130.0</td>\n",
       "      <td>23.0</td>\n",
       "      <td>4.0</td>\n",
       "      <td>32.0</td>\n",
       "      <td>2.0</td>\n",
       "      <td>1.0</td>\n",
       "      <td>2019.0</td>\n",
       "      <td>1</td>\n",
       "      <td>2019-02-01</td>\n",
       "    </tr>\n",
       "  </tbody>\n",
       "</table>\n",
       "<p>19552 rows × 14 columns</p>\n",
       "</div>"
      ],
      "text/plain": [
       "              Duration  Bike Id          End Date  EndStation Id  \\\n",
       "bike.tar.bz2                                                       \n",
       "83270161.0        10.0    777.0  02/01/2019 00:10          631.0   \n",
       "83270163.0        12.0    150.0  02/01/2019 00:13          258.0   \n",
       "83270162.0        13.0   2426.0  02/01/2019 00:14          258.0   \n",
       "83270167.0         9.0   1159.0  02/01/2019 00:12          298.0   \n",
       "83270169.0        22.0  11063.0  02/01/2019 00:25          169.0   \n",
       "...                ...      ...               ...            ...   \n",
       "83290533.0        31.0   2757.0  03/01/2019 00:30          303.0   \n",
       "83290531.0         7.0   1093.0  03/01/2019 00:06           78.0   \n",
       "83290532.0         5.0   2839.0  03/01/2019 00:04          242.0   \n",
       "83290534.0        16.0   9775.0  03/01/2019 00:15          398.0   \n",
       "83290535.0         6.0   6292.0  03/01/2019 00:05          818.0   \n",
       "\n",
       "                      Start Date  StartStation Id  HourofDay  DayofWeek  \\\n",
       "bike.tar.bz2                                                              \n",
       "83270161.0   2019-02-01 00:00:00            368.0        0.0        4.0   \n",
       "83270163.0   2019-02-01 00:01:00            248.0        0.0        4.0   \n",
       "83270162.0   2019-02-01 00:01:00            248.0        0.0        4.0   \n",
       "83270167.0   2019-02-01 00:03:00            230.0        0.0        4.0   \n",
       "83270169.0   2019-02-01 00:03:00            733.0        0.0        4.0   \n",
       "...                          ...              ...        ...        ...   \n",
       "83290533.0   2019-02-01 23:59:00            303.0       23.0        4.0   \n",
       "83290531.0   2019-02-01 23:59:00            215.0       23.0        4.0   \n",
       "83290532.0   2019-02-01 23:59:00            239.0       23.0        4.0   \n",
       "83290534.0   2019-02-01 23:59:00            157.0       23.0        4.0   \n",
       "83290535.0   2019-02-01 23:59:00            130.0       23.0        4.0   \n",
       "\n",
       "              DayofYear  Month  Season    Year  1s        Date  \n",
       "bike.tar.bz2                                                    \n",
       "83270161.0         32.0    2.0     1.0  2019.0   1  2019-02-01  \n",
       "83270163.0         32.0    2.0     1.0  2019.0   1  2019-02-01  \n",
       "83270162.0         32.0    2.0     1.0  2019.0   1  2019-02-01  \n",
       "83270167.0         32.0    2.0     1.0  2019.0   1  2019-02-01  \n",
       "83270169.0         32.0    2.0     1.0  2019.0   1  2019-02-01  \n",
       "...                 ...    ...     ...     ...  ..         ...  \n",
       "83290533.0         32.0    2.0     1.0  2019.0   1  2019-02-01  \n",
       "83290531.0         32.0    2.0     1.0  2019.0   1  2019-02-01  \n",
       "83290532.0         32.0    2.0     1.0  2019.0   1  2019-02-01  \n",
       "83290534.0         32.0    2.0     1.0  2019.0   1  2019-02-01  \n",
       "83290535.0         32.0    2.0     1.0  2019.0   1  2019-02-01  \n",
       "\n",
       "[19552 rows x 14 columns]"
      ]
     },
     "execution_count": 8,
     "metadata": {},
     "output_type": "execute_result"
    }
   ],
   "source": [
    "# create column for date\n",
    "bike_time['Date'] = bike_time['Start Date'].dt.date\n",
    "# pick a date\n",
    "date = datetime.date(2019,2,1)\n",
    "# gather data for this specific date\n",
    "data_oneDay = bike_time[bike_time['Date']==date]\n",
    "data_oneDay.sort_values(by='Start Date')"
   ]
  },
  {
   "cell_type": "code",
   "execution_count": 9,
   "id": "8ea692d1-18d7-4ca2-91de-4505ccf0743d",
   "metadata": {
    "execution": {
     "iopub.execute_input": "2022-10-25T06:41:26.543769Z",
     "iopub.status.busy": "2022-10-25T06:41:26.543574Z",
     "iopub.status.idle": "2022-10-25T06:41:26.548790Z",
     "shell.execute_reply": "2022-10-25T06:41:26.548036Z",
     "shell.execute_reply.started": "2022-10-25T06:41:26.543749Z"
    }
   },
   "outputs": [],
   "source": [
    "# Isolate outgoing and incoming bikes at a specific station\n",
    "outgoing = data_oneDay[data_oneDay['StartStation Id']==215]\n",
    "# outgoing = outgoing.sort_values(by='Start Date')\n",
    "incoming = data_oneDay[data_oneDay['EndStation Id']==215]\n",
    "# incoming = incoming.sort_values(by='End Date')"
   ]
  },
  {
   "cell_type": "code",
   "execution_count": 20,
   "id": "b793da51-f262-4c91-83e8-bccc90455b1b",
   "metadata": {
    "execution": {
     "iopub.execute_input": "2022-10-25T06:43:11.651002Z",
     "iopub.status.busy": "2022-10-25T06:43:11.650394Z",
     "iopub.status.idle": "2022-10-25T06:43:11.660811Z",
     "shell.execute_reply": "2022-10-25T06:43:11.660104Z",
     "shell.execute_reply.started": "2022-10-25T06:43:11.650975Z"
    }
   },
   "outputs": [],
   "source": [
    "# This trick is used to go through departure/arrival times of bikes at station\n",
    "incoming['Start Date'] = incoming['End Date']\n",
    "incoming['Start Date'] = incoming['Start Date'].astype('datetime64[ns]')"
   ]
  },
  {
   "cell_type": "code",
   "execution_count": 11,
   "id": "b7080018-edbf-4e5a-81ec-a6a7a585f8bf",
   "metadata": {
    "execution": {
     "iopub.execute_input": "2022-10-25T06:41:26.560845Z",
     "iopub.status.busy": "2022-10-25T06:41:26.560655Z",
     "iopub.status.idle": "2022-10-25T06:41:26.566181Z",
     "shell.execute_reply": "2022-10-25T06:41:26.565603Z",
     "shell.execute_reply.started": "2022-10-25T06:41:26.560826Z"
    }
   },
   "outputs": [],
   "source": [
    "# Merge incoming/outgoing bike movements to go through one by one\n",
    "movements = pd.concat([outgoing,incoming],axis=0)\n",
    "movements = movements.sort_values(by='Start Date')"
   ]
  },
  {
   "cell_type": "code",
   "execution_count": 12,
   "id": "2605aa6b-abc5-4788-ba32-0551689eb084",
   "metadata": {
    "execution": {
     "iopub.execute_input": "2022-10-25T06:41:26.567093Z",
     "iopub.status.busy": "2022-10-25T06:41:26.566908Z",
     "iopub.status.idle": "2022-10-25T06:41:26.577455Z",
     "shell.execute_reply": "2022-10-25T06:41:26.576802Z",
     "shell.execute_reply.started": "2022-10-25T06:41:26.567074Z"
    }
   },
   "outputs": [
    {
     "name": "stdout",
     "output_type": "stream",
     "text": [
      "The maximum gap for bikes throughout the day could be anything from 0 to 14\n"
     ]
    }
   ],
   "source": [
    "max_bikes = 52 # according to 'https://santandercycles.tfl.gov.uk/map'\n",
    "remain_bikes = []\n",
    "current_bikes = 2\n",
    "\n",
    "for index, row in movements.iterrows():\n",
    "    if row['StartStation Id']==215.0:\n",
    "        # print(row['StartStation Id'])\n",
    "        current_bikes -= 1\n",
    "        remain_bikes.append((row['Start Date'],current_bikes))\n",
    "    elif row['EndStation Id']==215.0:\n",
    "        current_bikes += 1\n",
    "        remain_bikes.append((row['Start Date'],current_bikes))\n",
    "remain = [ele[1] for ele in remain_bikes]\n",
    "\n",
    "print('The maximum gap for bikes throughout the day could be anything from', 0,'to', max_bikes-max(remain))"
   ]
  },
  {
   "cell_type": "code",
   "execution_count": 21,
   "id": "02f19c61-e16d-4f8c-a268-76ae83dda04d",
   "metadata": {
    "execution": {
     "iopub.execute_input": "2022-10-25T06:43:24.143799Z",
     "iopub.status.busy": "2022-10-25T06:43:24.143219Z",
     "iopub.status.idle": "2022-10-25T06:43:56.668988Z",
     "shell.execute_reply": "2022-10-25T06:43:56.668381Z",
     "shell.execute_reply.started": "2022-10-25T06:43:24.143772Z"
    }
   },
   "outputs": [],
   "source": [
    "%%capture --no-stderr\n",
    "# Pick date and track movements within the hours of that day\n",
    "withinDay = pd.DataFrame()\n",
    "withinDay['Total Hourly Count'] = bike_time.groupby('HourofDay')['1s'].sum()\n",
    "stations_id = bike_time.groupby('EndStation Id')['1s'].sum().index\n",
    "\n",
    "for station in stations_id:\n",
    "    station_name = str('StartStation Id ') + str(station)\n",
    "    withinDay[station_name] = bike_time[bike_time['StartStation Id']==station].groupby('HourofDay')['1s'].sum()\n",
    "    \n",
    "withinDay.head()   "
   ]
  },
  {
   "cell_type": "code",
   "execution_count": 22,
   "id": "15667df2-af86-44d1-a96f-7131ee94887c",
   "metadata": {
    "execution": {
     "iopub.execute_input": "2022-10-25T06:43:56.670434Z",
     "iopub.status.busy": "2022-10-25T06:43:56.670226Z",
     "iopub.status.idle": "2022-10-25T06:43:57.712524Z",
     "shell.execute_reply": "2022-10-25T06:43:57.711713Z",
     "shell.execute_reply.started": "2022-10-25T06:43:56.670413Z"
    }
   },
   "outputs": [],
   "source": [
    "import seaborn as sns\n",
    "import matplotlib.pyplot as plt"
   ]
  },
  {
   "cell_type": "code",
   "execution_count": 23,
   "id": "68a4b310-8380-4cd7-9f2f-642907adc691",
   "metadata": {
    "execution": {
     "iopub.execute_input": "2022-10-25T06:43:57.714522Z",
     "iopub.status.busy": "2022-10-25T06:43:57.713697Z",
     "iopub.status.idle": "2022-10-25T06:43:58.105460Z",
     "shell.execute_reply": "2022-10-25T06:43:58.104788Z",
     "shell.execute_reply.started": "2022-10-25T06:43:57.714495Z"
    }
   },
   "outputs": [
    {
     "data": {
      "text/plain": [
       "<AxesSubplot:xlabel='HourofDay', ylabel='Total Hourly Count'>"
      ]
     },
     "execution_count": 23,
     "metadata": {},
     "output_type": "execute_result"
    },
    {
     "data": {
      "image/png": "[encoded data removed]",
      "text/plain": [
       "<Figure size 1800x720 with 1 Axes>"
      ]
     },
     "metadata": {
      "needs_background": "light"
     },
     "output_type": "display_data"
    }
   ],
   "source": [
    "plt.figure(figsize=(25, 10))\n",
    "sns.boxplot(x=withinDay.index,y='Total Hourly Count',data=withinDay)"
   ]
  },
  {
   "cell_type": "code",
   "execution_count": 36,
   "id": "904657da-51ce-406c-96b6-d9988cd52197",
   "metadata": {
    "execution": {
     "iopub.execute_input": "2022-10-24T21:43:16.553682Z",
     "iopub.status.busy": "2022-10-24T21:43:16.553311Z",
     "iopub.status.idle": "2022-10-24T21:43:16.559555Z",
     "shell.execute_reply": "2022-10-24T21:43:16.558268Z",
     "shell.execute_reply.started": "2022-10-24T21:43:16.553648Z"
    }
   },
   "outputs": [],
   "source": [
    "import numpy as np"
   ]
  },
  {
   "cell_type": "code",
   "execution_count": null,
   "id": "bef19290-55b2-4cfd-a40b-ac3fd5279614",
   "metadata": {
    "execution": {
     "iopub.execute_input": "2022-10-24T21:43:16.673369Z",
     "iopub.status.busy": "2022-10-24T21:43:16.672888Z"
    }
   },
   "outputs": [],
   "source": [
    "bike_time.groupby('Date')[bike_time.columns].apply(lambda x: np.unique(x))"
   ]
  }
 ],
 "metadata": {
  "kernelspec": {
   "display_name": "Python 3 (ipykernel)",
   "language": "python",
   "name": "python3"
  },
  "language_info": {
   "codemirror_mode": {
    "name": "ipython",
    "version": 3
   },
   "file_extension": ".py",
   "mimetype": "text/x-python",
   "name": "python",
   "nbconvert_exporter": "python",
   "pygments_lexer": "ipython3",
   "version": "3.9.13"
  }
 },
 "nbformat": 4,
 "nbformat_minor": 5
}
